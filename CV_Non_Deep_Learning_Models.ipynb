{
  "nbformat": 4,
  "nbformat_minor": 0,
  "metadata": {
    "colab": {
      "name": "Copy of CV_Project_aftermid.ipynb",
      "version": "0.3.2",
      "provenance": [],
      "collapsed_sections": [
        "VMlcOBJ9D1g6",
        "3Wyrm8QKD1hJ",
        "O-ctpa68D1hK",
        "HmdHTKRMD1hN",
        "2-F4cP1VD1hQ",
        "qlIJK25OD1hV",
        "gf1oN1drD1hX",
        "4f1MPnRcD1ha",
        "5oFB5omaD1hg",
        "3eB8HeNlD1hj",
        "ljudo9zyD1hl",
        "WMHP6GDZD1hr",
        "e45R5QfKD1h0",
        "Y52vfsYSD1h7",
        "1A3AUg4AD1iB",
        "Whj11s1PD1iM",
        "OU0WbFr3D1iR",
        "nDm9l5qQD1iW",
        "oHz6Vz6dD1jJ",
        "BkHGkgpwD1jJ",
        "Ab7Jp7G3D1jW",
        "7qjoRWhlD1jg",
        "aL6mNjU1D1jt",
        "OJY0SahgD1j2",
        "lVdc1YJcD1kA",
        "ebgUDzMYD1kN",
        "IL5WG6z7D1kv",
        "mYLth71gD1kw",
        "ehnCEUUaD1lE",
        "IJwwkDcSD1lQ",
        "xqDxQf4ED1lZ",
        "FFDYIPb4D1lj",
        "o90_KEF7D1lv",
        "viKQ83pBD1mR",
        "1K3KRx5DD1mU",
        "ooCw4HWvD1mV",
        "fGRbEQ_PD1ml",
        "rppmm_6_D1m1",
        "ROgaq7MmD1nF",
        "ApbbZ-rUD1nI",
        "0vc7tv1RD1nM",
        "r826QQ5uD1nR",
        "hWl3PD3SD1nw"
      ]
    },
    "language_info": {
      "codemirror_mode": {
        "name": "ipython",
        "version": 3
      },
      "file_extension": ".py",
      "mimetype": "text/x-python",
      "name": "python",
      "nbconvert_exporter": "python",
      "pygments_lexer": "ipython3",
      "version": "3.6.6"
    },
    "kernelspec": {
      "name": "python3",
      "display_name": "Python 3"
    },
    "accelerator": "GPU"
  },
  "cells": [
    {
      "metadata": {
        "id": "0DG1MLU3Tlmg",
        "colab_type": "code",
        "outputId": "f9103d66-f73a-45a2-b81d-6a3f7d14d7da",
        "colab": {
          "base_uri": "https://localhost:8080/",
          "height": 272
        }
      },
      "cell_type": "code",
      "source": [
        "!pip install opencv-python==3.4.2.16"
      ],
      "execution_count": 0,
      "outputs": [
        {
          "output_type": "stream",
          "text": [
            "Collecting opencv-python==3.4.2.16\n",
            "\u001b[?25l  Downloading https://files.pythonhosted.org/packages/fa/7d/5042b668a8ed41d2a80b8c172f5efcd572e3c046c75ae029407e19b7fc68/opencv_python-3.4.2.16-cp36-cp36m-manylinux1_x86_64.whl (25.0MB)\n",
            "\u001b[K     |████████████████████████████████| 25.0MB 10.0MB/s \n",
            "\u001b[?25hRequirement already satisfied: numpy>=1.11.3 in /usr/local/lib/python3.6/dist-packages (from opencv-python==3.4.2.16) (1.16.3)\n",
            "\u001b[31mERROR: albumentations 0.1.12 has requirement imgaug<0.2.7,>=0.2.5, but you'll have imgaug 0.2.8 which is incompatible.\u001b[0m\n",
            "Installing collected packages: opencv-python\n",
            "  Found existing installation: opencv-python 3.4.5.20\n",
            "    Uninstalling opencv-python-3.4.5.20:\n",
            "      Successfully uninstalled opencv-python-3.4.5.20\n",
            "Successfully installed opencv-python-3.4.2.16\n"
          ],
          "name": "stdout"
        },
        {
          "output_type": "display_data",
          "data": {
            "application/vnd.colab-display-data+json": {
              "pip_warning": {
                "packages": [
                  "cv2"
                ]
              }
            }
          },
          "metadata": {
            "tags": []
          }
        }
      ]
    },
    {
      "metadata": {
        "id": "WmBqn2LtYsDt",
        "colab_type": "code",
        "outputId": "2aeb20a1-d280-45d6-d9b9-fb69cfaddc3c",
        "colab": {
          "base_uri": "https://localhost:8080/",
          "height": 255
        }
      },
      "cell_type": "code",
      "source": [
        "!pip install opencv-contrib-python==3.4.2.16"
      ],
      "execution_count": 0,
      "outputs": [
        {
          "output_type": "stream",
          "text": [
            "Collecting opencv-contrib-python==3.4.2.16\n",
            "\u001b[?25l  Downloading https://files.pythonhosted.org/packages/08/f1/66330f4042c4fb3b2d77a159db8e8916d9cdecc29bc8c1f56bc7f8a9bec9/opencv_contrib_python-3.4.2.16-cp36-cp36m-manylinux1_x86_64.whl (30.6MB)\n",
            "\u001b[K     |████████████████████████████████| 30.6MB 1.5MB/s \n",
            "\u001b[?25hRequirement already satisfied: numpy>=1.11.3 in /usr/local/lib/python3.6/dist-packages (from opencv-contrib-python==3.4.2.16) (1.16.3)\n",
            "Installing collected packages: opencv-contrib-python\n",
            "  Found existing installation: opencv-contrib-python 3.4.3.18\n",
            "    Uninstalling opencv-contrib-python-3.4.3.18:\n",
            "      Successfully uninstalled opencv-contrib-python-3.4.3.18\n",
            "Successfully installed opencv-contrib-python-3.4.2.16\n"
          ],
          "name": "stdout"
        },
        {
          "output_type": "display_data",
          "data": {
            "application/vnd.colab-display-data+json": {
              "pip_warning": {
                "packages": [
                  "cv2"
                ]
              }
            }
          },
          "metadata": {
            "tags": []
          }
        }
      ]
    },
    {
      "metadata": {
        "heading_collapsed": true,
        "id": "VMlcOBJ9D1g6",
        "colab_type": "text"
      },
      "cell_type": "markdown",
      "source": [
        "# Import"
      ]
    },
    {
      "metadata": {
        "hidden": true,
        "id": "PsrVmhKkD1g8",
        "colab_type": "code",
        "colab": {}
      },
      "cell_type": "code",
      "source": [
        "import os\n",
        "import cv2\n",
        "import copy\n",
        "import csv\n",
        "import random\n",
        "import pickle\n",
        "import numpy as np\n",
        "import pandas as pd\n",
        "import itertools\n",
        "from google.colab import files\n",
        "from scipy.stats import randint\n",
        "from itertools import cycle\n",
        "import matplotlib.pyplot as plt\n",
        "from matplotlib.pyplot import figure"
      ],
      "execution_count": 0,
      "outputs": []
    },
    {
      "metadata": {
        "colab_type": "code",
        "hidden": true,
        "id": "n-ExnNAGwCyE",
        "colab": {}
      },
      "cell_type": "code",
      "source": [
        "from sklearn import preprocessing\n",
        "from sklearn.manifold import TSNE\n",
        "from sklearn.decomposition import TruncatedSVD\n",
        "from sklearn import metrics\n",
        "from sklearn.model_selection import train_test_split\n",
        "from sklearn import preprocessing\n",
        "from scipy.sparse import csr_matrix\n",
        "from scipy import stats\n",
        "from sklearn.cluster import KMeans\n",
        "from sklearn.metrics import average_precision_score\n",
        "from sklearn.model_selection import GridSearchCV\n",
        "from sklearn.model_selection import RandomizedSearchCV"
      ],
      "execution_count": 0,
      "outputs": []
    },
    {
      "metadata": {
        "hidden": true,
        "id": "6aMFM9IFD1hF",
        "colab_type": "code",
        "colab": {}
      },
      "cell_type": "code",
      "source": [
        "# Import different classifiers\n",
        "from sklearn import svm\n",
        "from sklearn.neural_network import MLPClassifier\n",
        "from xgboost import XGBClassifier\n",
        "from sklearn.naive_bayes import GaussianNB\n",
        "from sklearn.neighbors import KNeighborsClassifier\n",
        "from sklearn.ensemble import BaggingClassifier, RandomForestClassifier, AdaBoostClassifier\n",
        "from sklearn.discriminant_analysis import LinearDiscriminantAnalysis as LDA\n",
        "from sklearn.decomposition import PCA\n",
        "from skimage.feature import hog, local_binary_pattern"
      ],
      "execution_count": 0,
      "outputs": []
    },
    {
      "metadata": {
        "id": "3Wyrm8QKD1hJ",
        "colab_type": "text"
      },
      "cell_type": "markdown",
      "source": [
        "# Functions"
      ]
    },
    {
      "metadata": {
        "heading_collapsed": true,
        "id": "O-ctpa68D1hK",
        "colab_type": "text"
      },
      "cell_type": "markdown",
      "source": [
        "## Write CSV"
      ]
    },
    {
      "metadata": {
        "hidden": true,
        "id": "A4Obd0zaD1hK",
        "colab_type": "code",
        "colab": {}
      },
      "cell_type": "code",
      "source": [
        "def write_csv(file, a1, a2, a3, a4, a5, a6, a7, name):\n",
        "    with open(file, mode='w') as csv_file:\n",
        "        csv_writer = csv.writer(csv_file, delimiter=',', quotechar='\"', quoting=csv.QUOTE_MINIMAL)\n",
        "        csv_writer.writerow(name)\n",
        "        for i in range(20):\n",
        "            if a2[i] == None:\n",
        "                a2[i] = 'None'\n",
        "            if a4[i] == None:\n",
        "                a4[i] = 'None'\n",
        "            csv_writer.writerow([a1[i], a2[i], a3[i], a4[i], a5[i], a6[i], a7[i]])"
      ],
      "execution_count": 0,
      "outputs": []
    },
    {
      "metadata": {
        "heading_collapsed": true,
        "id": "HmdHTKRMD1hN",
        "colab_type": "text"
      },
      "cell_type": "markdown",
      "source": [
        "## Read dataset:"
      ]
    },
    {
      "metadata": {
        "hidden": true,
        "id": "oUxAPeHYD1hN",
        "colab_type": "code",
        "outputId": "2be33ff4-5a57-4a5b-8d15-1442a884d23c",
        "colab": {
          "base_uri": "https://localhost:8080/",
          "height": 34
        }
      },
      "cell_type": "code",
      "source": [
        "from google.colab import drive\n",
        "drive.mount('/content/drive')"
      ],
      "execution_count": 0,
      "outputs": [
        {
          "output_type": "stream",
          "text": [
            "Drive already mounted at /content/drive; to attempt to forcibly remount, call drive.mount(\"/content/drive\", force_remount=True).\n"
          ],
          "name": "stdout"
        }
      ]
    },
    {
      "metadata": {
        "id": "XQIBXcwDErCC",
        "colab_type": "code",
        "colab": {}
      },
      "cell_type": "code",
      "source": [
        "corpus = os.path.join(\"/content/drive/My Drive/\", 'quickdraw_small')"
      ],
      "execution_count": 0,
      "outputs": []
    },
    {
      "metadata": {
        "id": "vZBO1Vk8ErMx",
        "colab_type": "code",
        "outputId": "04b750c1-679a-46a2-fcfe-11dcaf1fe3ad",
        "colab": {
          "base_uri": "https://localhost:8080/",
          "height": 357
        }
      },
      "cell_type": "code",
      "source": [
        "os.listdir(corpus+'/train')"
      ],
      "execution_count": 0,
      "outputs": [
        {
          "output_type": "execute_result",
          "data": {
            "text/plain": [
              "['full_numpy_bitmap_crown.npy',\n",
              " 'full_numpy_bitmap_headphones.npy',\n",
              " 'full_numpy_bitmap_pants.npy',\n",
              " 'full_numpy_bitmap_alarm clock.npy',\n",
              " 'full_numpy_bitmap_bicycle.npy',\n",
              " 'full_numpy_bitmap_airplane.npy',\n",
              " 'full_numpy_bitmap_car.npy',\n",
              " 'full_numpy_bitmap_banana.npy',\n",
              " 'full_numpy_bitmap_fish.npy',\n",
              " 'full_numpy_bitmap_baseball bat.npy',\n",
              " 'full_numpy_bitmap_ice cream.npy',\n",
              " 'full_numpy_bitmap_flower.npy',\n",
              " 'full_numpy_bitmap_dumbbell.npy',\n",
              " 'full_numpy_bitmap_candle.npy',\n",
              " 'full_numpy_bitmap_windmill.npy',\n",
              " 'full_numpy_bitmap_umbrella.npy',\n",
              " 'full_numpy_bitmap_shoe.npy',\n",
              " 'full_numpy_bitmap_hat.npy',\n",
              " 'full_numpy_bitmap_knife.npy',\n",
              " 'full_numpy_bitmap_eye.npy']"
            ]
          },
          "metadata": {
            "tags": []
          },
          "execution_count": 79
        }
      ]
    },
    {
      "metadata": {
        "id": "I7k387_2OamR",
        "colab_type": "code",
        "colab": {}
      },
      "cell_type": "code",
      "source": [
        "count = 0\n",
        "path = corpus+'/train'\n",
        "class_label = []\n",
        "for file_name in sorted(os.listdir(path)):\n",
        "    if count < 10:\n",
        "        count += 1\n",
        "        file_path = path + '/' + file_name\n",
        "        classes = file_name.split('_')[-1].split('.')[0]\n",
        "        class_label.append(classes)"
      ],
      "execution_count": 0,
      "outputs": []
    },
    {
      "metadata": {
        "id": "umTMKjoYEyFP",
        "colab_type": "code",
        "colab": {}
      },
      "cell_type": "code",
      "source": [
        "class_label = ['airplane',\n",
        "  'alarm clock',\n",
        "  'banana',\n",
        "  'baseball bat',\n",
        "  'bicycle',\n",
        "  'car',\n",
        "  'crown',\n",
        "  'fish',\n",
        "  'headphones',\n",
        "  'pants']\n"
      ],
      "execution_count": 0,
      "outputs": []
    },
    {
      "metadata": {
        "id": "tfddo8oBO1xn",
        "colab_type": "code",
        "colab": {}
      },
      "cell_type": "code",
      "source": [
        "count = 0\n",
        "te_data = []\n",
        "te_label = []\n",
        "path = corpus+'/train'\n",
        "\n",
        "for file_name in os.listdir(path):\n",
        "    if count < 10:\n",
        "        count += 1\n",
        "        file_path = path + '/' + file_name\n",
        "        arr = np.load(file_path)\n",
        "        classes = file_name.split('_')[-1].split('.')[0]\n",
        "        for i in range(0, arr.shape[0]):\n",
        "            temp_arr = arr[i].reshape(28, 28)\n",
        "            te_data.append(temp_arr)\n",
        "            te_label.append(class_label.index(classes))\n",
        "\n",
        "train_imgs = np.array(te_data)\n",
        "train_y = np.array(te_label)"
      ],
      "execution_count": 0,
      "outputs": []
    },
    {
      "metadata": {
        "id": "gGKVcRMuO1vc",
        "colab_type": "code",
        "colab": {}
      },
      "cell_type": "code",
      "source": [
        "del te_data\n",
        "del te_label"
      ],
      "execution_count": 0,
      "outputs": []
    },
    {
      "metadata": {
        "id": "FkYDHrzkE4Ca",
        "colab_type": "code",
        "colab": {}
      },
      "cell_type": "code",
      "source": [
        "count = 0\n",
        "te_data = []\n",
        "te_label = []\n",
        "path = corpus+'/test'\n",
        "\n",
        "for file_name in os.listdir(path):\n",
        "    if count < 10:\n",
        "        count += 1\n",
        "        file_path = path + '/' + file_name\n",
        "        arr = np.load(file_path)\n",
        "        classes = file_name.split('_')[-1].split('.')[0]\n",
        "        for i in range(0, arr.shape[0]):\n",
        "            temp_arr = arr[i].reshape(28, 28)\n",
        "            te_data.append(temp_arr)\n",
        "            te_label.append(class_label.index(classes))\n",
        "\n",
        "test_imgs = np.array(te_data)\n",
        "test_y = np.array(te_label)"
      ],
      "execution_count": 0,
      "outputs": []
    },
    {
      "metadata": {
        "id": "LX4Ou90XE4Hh",
        "colab_type": "code",
        "colab": {}
      },
      "cell_type": "code",
      "source": [
        "del te_data\n",
        "del te_label"
      ],
      "execution_count": 0,
      "outputs": []
    },
    {
      "metadata": {
        "id": "kdd45LWOF-Xl",
        "colab_type": "code",
        "colab": {}
      },
      "cell_type": "code",
      "source": [
        "count = 0\n",
        "te_data = []\n",
        "te_label = []\n",
        "path = corpus+'/valid'\n",
        "\n",
        "for file_name in os.listdir(path):\n",
        "    if count < 10:\n",
        "        count += 1\n",
        "        file_path = path + '/' + file_name\n",
        "        arr = np.load(file_path)\n",
        "        classes = file_name.split('_')[-1].split('.')[0]\n",
        "        for i in range(0, arr.shape[0]):\n",
        "            temp_arr = arr[i].reshape(28, 28)\n",
        "            te_data.append(temp_arr)\n",
        "            te_label.append(class_label.index(classes))\n",
        "\n",
        "val_imgs = np.array(te_data)\n",
        "val_y = np.array(te_label)"
      ],
      "execution_count": 0,
      "outputs": []
    },
    {
      "metadata": {
        "id": "d5aXn95GF-Z7",
        "colab_type": "code",
        "colab": {}
      },
      "cell_type": "code",
      "source": [
        "del te_data\n",
        "del te_label"
      ],
      "execution_count": 0,
      "outputs": []
    },
    {
      "metadata": {
        "id": "0fJANF7_GRNf",
        "colab_type": "code",
        "outputId": "766eed2e-7a4e-47dc-edba-fdc65a682887",
        "colab": {
          "base_uri": "https://localhost:8080/",
          "height": 119
        }
      },
      "cell_type": "code",
      "source": [
        "train_imgs.shape, train_y.shape, test_imgs.shape, test_y.shape, val_imgs.shape, val_y.shape"
      ],
      "execution_count": 0,
      "outputs": [
        {
          "output_type": "execute_result",
          "data": {
            "text/plain": [
              "((84000, 28, 28),\n",
              " (84000,),\n",
              " (30000, 28, 28),\n",
              " (30000,),\n",
              " (36000, 28, 28),\n",
              " (36000,))"
            ]
          },
          "metadata": {
            "tags": []
          },
          "execution_count": 87
        }
      ]
    },
    {
      "metadata": {
        "heading_collapsed": true,
        "id": "2-F4cP1VD1hQ",
        "colab_type": "text"
      },
      "cell_type": "markdown",
      "source": [
        "## Save / Load Extracted Features:"
      ]
    },
    {
      "metadata": {
        "hidden": true,
        "id": "hiD61sMtD1hR",
        "colab_type": "code",
        "colab": {}
      },
      "cell_type": "code",
      "source": [
        "def save_feature(feature, name):\n",
        "    # saving all our feature vectors in pickled file\n",
        "    with open(corpus+'/cache/' + name + '.pkl', 'wb') as fp:\n",
        "        pickle.dump(csr_matrix(feature), fp)\n",
        "    \n",
        "    print(f'Feature saved with name cache/{name}.pkl')\n",
        "\n",
        "def load_feature(feature_name):\n",
        "    return pickle.load(open(feature_name, 'rb')).A"
      ],
      "execution_count": 0,
      "outputs": []
    },
    {
      "metadata": {
        "heading_collapsed": true,
        "id": "qlIJK25OD1hV",
        "colab_type": "text"
      },
      "cell_type": "markdown",
      "source": [
        "## Save / Load Trained Model:"
      ]
    },
    {
      "metadata": {
        "hidden": true,
        "id": "NbNi0w8iD1hV",
        "colab_type": "code",
        "colab": {}
      },
      "cell_type": "code",
      "source": [
        "def save_model(model):\n",
        "    filename = input('Enter model file name:')\n",
        "    pickle.dump(model, open(corpus+'/models/'+filename + '.pkl', 'wb'))\n",
        "    print(f'Successfully saved model in models/{filename}.pkl')\n",
        "\n",
        "def load_model(model_name):\n",
        "    return pickle.load(open(model_name, 'rb'))"
      ],
      "execution_count": 0,
      "outputs": []
    },
    {
      "metadata": {
        "heading_collapsed": true,
        "id": "gf1oN1drD1hX",
        "colab_type": "text"
      },
      "cell_type": "markdown",
      "source": [
        "## Features:"
      ]
    },
    {
      "metadata": {
        "heading_collapsed": true,
        "hidden": true,
        "id": "4f1MPnRcD1ha",
        "colab_type": "text"
      },
      "cell_type": "markdown",
      "source": [
        "### Flattened Image:"
      ]
    },
    {
      "metadata": {
        "hidden": true,
        "id": "eBT6XcQbD1ha",
        "colab_type": "code",
        "colab": {}
      },
      "cell_type": "code",
      "source": [
        "def get_flattened(images, name='flattened', save=False):\n",
        "    \"\"\"\n",
        "    color: default RGB2GRAY, if None is passed then color is used as it is.\n",
        "    \"\"\"\n",
        "    color_images = images\n",
        "    count = len(color_images)\n",
        "    \n",
        "    result = np.array(color_images).reshape(count, -1)\n",
        "    \n",
        "    if save:\n",
        "        save_feature(result, name)\n",
        "        \n",
        "    return result"
      ],
      "execution_count": 0,
      "outputs": []
    },
    {
      "metadata": {
        "heading_collapsed": true,
        "hidden": true,
        "id": "5oFB5omaD1hg",
        "colab_type": "text"
      },
      "cell_type": "markdown",
      "source": [
        "### HOG based Features:"
      ]
    },
    {
      "metadata": {
        "colab_type": "code",
        "hidden": true,
        "id": "9kmT_2iDfO9e",
        "colab": {}
      },
      "cell_type": "code",
      "source": [
        "def get_hog(images, name='hog', save=False):\n",
        "    result = np.array([hog(img, block_norm='L2') for img in images])\n",
        "    \n",
        "    if save:\n",
        "        save_feature(result, name)\n",
        "        \n",
        "    return result"
      ],
      "execution_count": 0,
      "outputs": []
    },
    {
      "metadata": {
        "heading_collapsed": true,
        "hidden": true,
        "id": "3eB8HeNlD1hj",
        "colab_type": "text"
      },
      "cell_type": "markdown",
      "source": [
        "### KAZE based features:"
      ]
    },
    {
      "metadata": {
        "hidden": true,
        "id": "oSqNR0p3D1hj",
        "colab_type": "code",
        "colab": {}
      },
      "cell_type": "code",
      "source": [
        "def get_kaze(images, name='kaze', save=False):\n",
        "    # KAZE descriptor for 1 image\n",
        "    def get_image_kaze(image, vector_size=20):\n",
        "        alg = cv2.KAZE_create()\n",
        "        kps = alg.detect(image)\n",
        "        kps = sorted(kps, key=lambda x: -x.response)[:vector_size]\n",
        "        \n",
        "        # Making descriptor of same size\n",
        "        # Descriptor vector size is 64\n",
        "        needed_size = (vector_size * 64)\n",
        "        if len(kps) == 0:\n",
        "            return np.zeros(needed_size)\n",
        "        \n",
        "        kps, dsc = alg.compute(image, kps)\n",
        "        dsc = dsc.flatten()\n",
        "        \n",
        "        if dsc.size < needed_size:\n",
        "            # if we have less than 32 descriptors then just adding zeros at the\n",
        "            # end of our feature vector\n",
        "            dsc = np.concatenate([dsc, np.zeros(needed_size - dsc.size)])\n",
        "        return dsc\n",
        "    \n",
        "    # KAZE descriptor for all images\n",
        "    features = []\n",
        "    for i, img in enumerate(images):\n",
        "        dsc = get_image_kaze(img)\n",
        "        features.append(dsc)\n",
        "    \n",
        "    result = np.array(features)\n",
        "    \n",
        "    if save:\n",
        "        save_feature(result, name)\n",
        "        \n",
        "    return result"
      ],
      "execution_count": 0,
      "outputs": []
    },
    {
      "metadata": {
        "heading_collapsed": true,
        "hidden": true,
        "id": "ljudo9zyD1hl",
        "colab_type": "text"
      },
      "cell_type": "markdown",
      "source": [
        "### SIFT based Features:"
      ]
    },
    {
      "metadata": {
        "hidden": true,
        "id": "HkhYENplD1hm",
        "colab_type": "code",
        "colab": {}
      },
      "cell_type": "code",
      "source": [
        "def get_sift(images, name='sift', save=False):\n",
        "    # SIFT descriptor for 1 image\n",
        "    def get_image_sift(image, vector_size=8):\n",
        "        alg = cv2.xfeatures2d.SIFT_create()\n",
        "        kps = alg.detect(image, None)\n",
        "        kps = sorted(kps, key=lambda x: -x.response)[:vector_size]\n",
        "        \n",
        "        # Making descriptor of same size\n",
        "        # Descriptor vector size is 128\n",
        "        needed_size = (vector_size * 128)\n",
        "        if len(kps) == 0:\n",
        "            return np.zeros(needed_size)\n",
        "        \n",
        "        kps, dsc = alg.compute(image, kps)\n",
        "        dsc = dsc.flatten()\n",
        "        if dsc.size < needed_size:\n",
        "            # if we have less than 32 descriptors then just adding zeros at the\n",
        "            # end of our feature vector\n",
        "            dsc = np.concatenate([dsc, np.zeros(needed_size - dsc.size)])\n",
        "            \n",
        "        return dsc\n",
        "    \n",
        "    # SIFT descriptor for all images\n",
        "    features = []\n",
        "    for i, img in enumerate(images):\n",
        "        dsc = get_image_sift(img)\n",
        "        features.append(dsc)\n",
        "\n",
        "    result = np.array(features)\n",
        "    \n",
        "    if save:\n",
        "        save_feature(result, name)\n",
        "        \n",
        "    return result"
      ],
      "execution_count": 0,
      "outputs": []
    },
    {
      "metadata": {
        "hidden": true,
        "id": "Ao9d_3zwD1ho",
        "colab_type": "code",
        "colab": {}
      },
      "cell_type": "code",
      "source": [
        "def return_sift_kp(image):\n",
        "    alg = cv2.xfeatures2d.SIFT_create()\n",
        "    kps = alg.detect(image, None)\n",
        "    kps = sorted(kps, key=lambda x: -x.response)[:15]\n",
        "\n",
        "    # Making descriptor of same size\n",
        "    # Descriptor vector size is 128\n",
        "    needed_size = (15 * 128)\n",
        "    if len(kps) == 0:\n",
        "        dsc = np.zeros(needed_size)\n",
        "    else:\n",
        "        kps, dsc = alg.compute(image, kps)\n",
        "        dsc = dsc.flatten()\n",
        "        if dsc.size < needed_size:\n",
        "            # if we have less than 32 descriptors then just adding zeros at the\n",
        "            # end of our feature vector\n",
        "            dsc = np.concatenate([dsc, np.zeros(needed_size - dsc.size)])\n",
        "    return kps"
      ],
      "execution_count": 0,
      "outputs": []
    },
    {
      "metadata": {
        "heading_collapsed": true,
        "hidden": true,
        "id": "WMHP6GDZD1hr",
        "colab_type": "text"
      },
      "cell_type": "markdown",
      "source": [
        "### SURF based Features:"
      ]
    },
    {
      "metadata": {
        "hidden": true,
        "id": "oWcSO-WSD1hr",
        "colab_type": "code",
        "colab": {}
      },
      "cell_type": "code",
      "source": [
        "def get_surf(images, name='surf', save=False):\n",
        "    # SURF descriptor for 1 image\n",
        "    def get_image_surf(image, vector_size=4):\n",
        "        alg = cv2.xfeatures2d.SURF_create()\n",
        "        kps = alg.detect(image, None)\n",
        "        kps = sorted(kps, key=lambda x: -x.response)[:vector_size]\n",
        "        \n",
        "        # Making descriptor of same size\n",
        "        # Descriptor vector size is 64\n",
        "        needed_size = (vector_size * 64)\n",
        "        if len(kps) == 0:\n",
        "            return np.zeros(needed_size)\n",
        "        \n",
        "        kps, dsc = alg.compute(image, kps)\n",
        "        dsc = dsc.flatten()\n",
        "        if dsc.size < needed_size:\n",
        "            # if we have less than 32 descriptors then just adding zeros at the\n",
        "            # end of our feature vector\n",
        "            dsc = np.concatenate([dsc, np.zeros(needed_size - dsc.size)])\n",
        "            \n",
        "        return dsc\n",
        "    \n",
        "    # SURF descriptor for all images\n",
        "    features = []\n",
        "    for i, img in enumerate(images):\n",
        "        dsc = get_image_surf(img)\n",
        "        features.append(dsc)\n",
        "    \n",
        "    result = np.array(features)\n",
        "    \n",
        "    if save:\n",
        "        save_feature(result, name)\n",
        "        \n",
        "    return result"
      ],
      "execution_count": 0,
      "outputs": []
    },
    {
      "metadata": {
        "hidden": true,
        "id": "n12IBVylD1ht",
        "colab_type": "code",
        "colab": {}
      },
      "cell_type": "code",
      "source": [
        "def return_surf_kp(image):\n",
        "    alg = cv2.xfeatures2d.SURF_create()\n",
        "    kps = alg.detect(image, None)\n",
        "    kps = sorted(kps, key=lambda x: -x.response)[:4]\n",
        "\n",
        "    # Making descriptor of same size\n",
        "    # Descriptor vector size is 64\n",
        "    needed_size = (15 * 64)\n",
        "    if len(kps) == 0:\n",
        "        dsc = np.zeros(needed_size)\n",
        "    else:\n",
        "        kps, dsc = alg.compute(image, kps)\n",
        "        dsc = dsc.flatten()\n",
        "        if dsc.size < needed_size:\n",
        "            # if we have less than 32 descriptors then just adding zeros at the\n",
        "            # end of our feature vector\n",
        "            dsc = np.concatenate([dsc, np.zeros(needed_size - dsc.size)])\n",
        "    return kps"
      ],
      "execution_count": 0,
      "outputs": []
    },
    {
      "metadata": {
        "heading_collapsed": true,
        "hidden": true,
        "id": "e45R5QfKD1h0",
        "colab_type": "text"
      },
      "cell_type": "markdown",
      "source": [
        "### LBP Feature:"
      ]
    },
    {
      "metadata": {
        "hidden": true,
        "id": "dSfzBghlD1h2",
        "colab_type": "code",
        "colab": {}
      },
      "cell_type": "code",
      "source": [
        "def get_lbp(images, name='lbp', save=False):\n",
        "    result = np.array([local_binary_pattern(img, 10, 3).flatten() for img in images])\n",
        "    \n",
        "    if save:\n",
        "        save_feature(result, name)\n",
        "        \n",
        "    return result"
      ],
      "execution_count": 0,
      "outputs": []
    },
    {
      "metadata": {
        "heading_collapsed": true,
        "hidden": true,
        "id": "Y52vfsYSD1h7",
        "colab_type": "text"
      },
      "cell_type": "markdown",
      "source": [
        "### Combine Features:"
      ]
    },
    {
      "metadata": {
        "hidden": true,
        "id": "0_QWLPX3D1h9",
        "colab_type": "code",
        "colab": {}
      },
      "cell_type": "code",
      "source": [
        "def combine_features(features, horizontal=True):\n",
        "    \"\"\"\n",
        "    Array of features [f1, f2, f3] where each fi is a feature set \n",
        "    eg. f1=rgb_flat, f2=SIFT, etc.\n",
        "    \"\"\"\n",
        "    if horizontal:\n",
        "        return np.hstack(features)\n",
        "    else:\n",
        "        return np.vstack(features)"
      ],
      "execution_count": 0,
      "outputs": []
    },
    {
      "metadata": {
        "heading_collapsed": true,
        "hidden": true,
        "id": "1A3AUg4AD1iB",
        "colab_type": "text"
      },
      "cell_type": "markdown",
      "source": [
        "### Normalize features:"
      ]
    },
    {
      "metadata": {
        "hidden": true,
        "id": "w7yFqkmUD1iC",
        "colab_type": "code",
        "colab": {}
      },
      "cell_type": "code",
      "source": [
        "def norm_features_minmax(train, test):\n",
        "    min_max_scaler = preprocessing.MinMaxScaler()\n",
        "    norm_train = min_max_scaler.fit_transform(train)\n",
        "    norm_test = min_max_scaler.transform(test)\n",
        "    \n",
        "    return norm_train, norm_test"
      ],
      "execution_count": 0,
      "outputs": []
    },
    {
      "metadata": {
        "hidden": true,
        "id": "rWJMGaB0D1iH",
        "colab_type": "code",
        "colab": {}
      },
      "cell_type": "code",
      "source": [
        "def norm_features_zscore(train, test):\n",
        "    min_max_scaler = preprocessing.StandardScaler()\n",
        "    norm_train = min_max_scaler.fit_transform(train)\n",
        "    norm_test = min_max_scaler.transform(test)\n",
        "    \n",
        "    return norm_train, norm_test"
      ],
      "execution_count": 0,
      "outputs": []
    },
    {
      "metadata": {
        "id": "Whj11s1PD1iM",
        "colab_type": "text"
      },
      "cell_type": "markdown",
      "source": [
        "## Classifiers:"
      ]
    },
    {
      "metadata": {
        "id": "Lln73pgJD1iN",
        "colab_type": "code",
        "colab": {}
      },
      "cell_type": "code",
      "source": [
        "def train_model(train_x, train_y, model_name='NB', validation=None):\n",
        "    \"\"\"\n",
        "    Possible model names: ['NB', 'SVM', 'XGB', 'MLP', 'ADA', 'BAG', 'RF']\n",
        "    default = 'NB'\n",
        "    \n",
        "    validation: (val_x, val_y) tupple for validation accuracy score.\n",
        "    \n",
        "    return: trained model\n",
        "    \"\"\"\n",
        "    model = None\n",
        "    if model_name == 'SVM':\n",
        "        model = svm.SVC(gamma='scale')\n",
        "    elif model_name == 'XGB':\n",
        "        model = XGBClassifier(n_estimators=200, max_depth=5, n_jobs=2)\n",
        "#         model = XGBClassifier()\n",
        "    elif model_name == 'MLP':\n",
        "        model = MLPClassifier(hidden_layer_sizes=(100,100,100), max_iter=800, alpha=0.0001,\n",
        "                     solver='sgd', verbose=10, tol=0.000000001)\n",
        "    elif model_name == 'ADA':\n",
        "        model = AdaBoostClassifier(n_estimators=50)\n",
        "    elif model_name == 'BAG':\n",
        "        model = BaggingClassifier(n_jobs=2, n_estimators=50)\n",
        "    elif model_name == 'RF':\n",
        "        model = RandomForestClassifier(n_estimators=200, max_depth=10)\n",
        "    elif model_name == 'KNN':\n",
        "        model = KNeighborsClassifier(n_neighbors=5, weights='distance', algorithm='auto', leaf_size=30, p=2, metric='minkowski', metric_params=None, n_jobs=None)\n",
        "    else:\n",
        "        model = GaussianNB()\n",
        "    \n",
        "    model.fit(train_x, train_y)\n",
        "    \n",
        "    if validation is not None:\n",
        "        y_hat = model.predict(validation[0])\n",
        "        acc = metrics.accuracy_score(validation[1], y_hat)\n",
        "        print(f\"Validation Accuracy in '{model_name}' = {acc}\")\n",
        "        \n",
        "    return model"
      ],
      "execution_count": 0,
      "outputs": []
    },
    {
      "metadata": {
        "heading_collapsed": true,
        "id": "OU0WbFr3D1iR",
        "colab_type": "text"
      },
      "cell_type": "markdown",
      "source": [
        "## CMC, CM and MAP"
      ]
    },
    {
      "metadata": {
        "hidden": true,
        "id": "AroQWZYND1iS",
        "colab_type": "code",
        "colab": {}
      },
      "cell_type": "code",
      "source": [
        "def confusion_mat(cm, classes, title='Confusion matrix', cmap=plt.cm.Blues, figsize=(7,7), path=None, filename=None):\n",
        "        \"\"\"\n",
        "        cm: confusion matrix to be plotted.\n",
        "        classes: array of labels or class names.\n",
        "        title: title of the confusion matrix.\n",
        "        cmap: color of the plot matrix.\n",
        "        figsize: tupple (width, height) representiong size of the plot.\n",
        "        path: destination where the plot image will be saved.\n",
        "        filename: name to save the file with on the specified path. (if None, title is used)\n",
        "        \n",
        "        # Source: https://scikit-learn.org/stable/auto_examples/model_selection/plot_confusion_matrix.html\n",
        "        \"\"\"\n",
        "        cm = cm.astype(np.int64)\n",
        "        plt.figure(figsize=figsize)\n",
        "        plt.imshow(cm, interpolation='nearest', cmap=cmap)\n",
        "        plt.title(title)\n",
        "        plt.colorbar()\n",
        "        tick_marks = np.arange(len(classes))\n",
        "        plt.xticks(tick_marks, classes, rotation=45)\n",
        "        plt.yticks(tick_marks, classes)\n",
        "\n",
        "        fmt = 'd'\n",
        "        thresh = cm.max() / 2.\n",
        "        for i, j in itertools.product(range(cm.shape[0]), range(cm.shape[1])):\n",
        "            plt.text(j, i, format(cm[i, j], fmt),\n",
        "                     horizontalalignment=\"center\",\n",
        "                     color=\"white\" if cm[i, j] > thresh else \"black\")\n",
        "        plt.grid(False)\n",
        "        plt.ylabel('True label')\n",
        "        plt.xlabel('Predicted label')\n",
        "        plt.tight_layout()\n",
        "        \n",
        "        if path:\n",
        "            if filename is None:\n",
        "                plt.savefig(path + title + '.png')\n",
        "            else:\n",
        "                plt.savefig(path + filename + '.png')\n",
        "        plt.show()"
      ],
      "execution_count": 0,
      "outputs": []
    },
    {
      "metadata": {
        "hidden": true,
        "id": "IcU7KwfID1iV",
        "colab_type": "code",
        "colab": {}
      },
      "cell_type": "code",
      "source": [
        "def cmc_curve(probs, y, idx_to_class):\n",
        "    counts = np.zeros(len(idx_to_class))\n",
        "    \n",
        "    indices = np.argsort(probs * -1)\n",
        "    for i in range(y.shape[0]):\n",
        "        actual = y[i]\n",
        "        rank = 1\n",
        "        for pred in indices[i]:\n",
        "            if pred == actual:\n",
        "                break\n",
        "            rank += 1\n",
        "        \n",
        "        counts[rank - 1] += 1\n",
        "    \n",
        "    ranks = np.zeros(len(idx_to_class))\n",
        "    ranks[0] = counts[0]\n",
        "    for i in range(1, len(idx_to_class)):\n",
        "        ranks[i] = ranks[i-1] + counts[i]\n",
        "\n",
        "    return ranks / y.shape[0]"
      ],
      "execution_count": 0,
      "outputs": []
    },
    {
      "metadata": {
        "id": "G7Vlv6j-jQad",
        "colab_type": "code",
        "colab": {}
      },
      "cell_type": "code",
      "source": [
        "def map3(model, validation=None):\n",
        "    probs = model.predict_proba(validation[0])\n",
        "    map_3 = 0\n",
        "    for i in range(len(validation[1])):\n",
        "        sort_arr = np.argsort(-probs[i])\n",
        "        idx = np.where(sort_arr[:3] == validation[1][i])[0]\n",
        "        if len(idx) == 0:\n",
        "            continue\n",
        "        map_3 += 1 / (idx[0]+1)\n",
        "    map_3 = map_3 / len(validation[1])\n",
        "    return map_3"
      ],
      "execution_count": 0,
      "outputs": []
    },
    {
      "metadata": {
        "heading_collapsed": true,
        "id": "nDm9l5qQD1iW",
        "colab_type": "text"
      },
      "cell_type": "markdown",
      "source": [
        "## PCA projected data"
      ]
    },
    {
      "metadata": {
        "hidden": true,
        "id": "wLZwgTzjD1iX",
        "colab_type": "code",
        "colab": {}
      },
      "cell_type": "code",
      "source": [
        "def pca_projection(mat, name_arr):\n",
        "    plt.figure(figsize=(10,15))\n",
        "    for i, img in enumerate(mat, start=1):\n",
        "        plt.subplot(3, 2, i)\n",
        "        y = np.var(mat[i-1], axis=0)\n",
        "        x = list(range(1, len(y)+1))\n",
        "        plt.plot(x, y, '--o')\n",
        "        plt.ylabel('Variance')\n",
        "        plt.xlabel('Data Projected on Eigen Vector Number')\n",
        "        plt.xticks(x)\n",
        "        plt.title(name_arr[i-1])\n",
        "    plt.savefig(corpus+'/output/subplot.jpg')\n",
        "    plt.show()"
      ],
      "execution_count": 0,
      "outputs": []
    },
    {
      "metadata": {
        "hidden": true,
        "id": "X3zKFTWiD1iZ",
        "colab_type": "code",
        "colab": {}
      },
      "cell_type": "code",
      "source": [
        "def draw_key_points(image, kp):\n",
        "    img = cv2.drawKeypoints(image, kp, None, flags=cv2.DRAW_MATCHES_FLAGS_DRAW_RICH_KEYPOINTS)\n",
        "    return img"
      ],
      "execution_count": 0,
      "outputs": []
    },
    {
      "metadata": {
        "id": "mECpbei_D1ic",
        "colab_type": "text"
      },
      "cell_type": "markdown",
      "source": [
        "# Main calls"
      ]
    },
    {
      "metadata": {
        "id": "w5IMrhmbD1jF",
        "colab_type": "text"
      },
      "cell_type": "markdown",
      "source": [
        "## Training:\n"
      ]
    },
    {
      "metadata": {
        "heading_collapsed": true,
        "id": "oHz6Vz6dD1jJ",
        "colab_type": "text"
      },
      "cell_type": "markdown",
      "source": [
        "### Training & Validation set features:"
      ]
    },
    {
      "metadata": {
        "heading_collapsed": true,
        "hidden": true,
        "id": "BkHGkgpwD1jJ",
        "colab_type": "text"
      },
      "cell_type": "markdown",
      "source": [
        "#### Data visualization:"
      ]
    },
    {
      "metadata": {
        "hidden": true,
        "id": "c7sWRJ4fD1jJ",
        "colab_type": "code",
        "colab": {}
      },
      "cell_type": "code",
      "source": [
        "class0 = train_imgs[train_y == 0][0]\n",
        "class1 = train_imgs[train_y == 1][5]\n",
        "class2 = train_imgs[train_y == 2][2]\n",
        "class3 = train_imgs[train_y == 3][1]\n",
        "classes = []\n",
        "classes.append(class0)\n",
        "classes.append(class1)\n",
        "classes.append(class2)\n",
        "classes.append(class3)"
      ],
      "execution_count": 0,
      "outputs": []
    },
    {
      "metadata": {
        "hidden": true,
        "id": "0dtrBOLLD1jM",
        "colab_type": "code",
        "colab": {}
      },
      "cell_type": "code",
      "source": [
        "vis_img = np.zeros((len(classes), 28, 28))\n",
        "lbp_img = np.zeros((len(classes), 28, 28))\n",
        "sift = np.zeros((len(classes), 28, 28, 3))\n",
        "surf = np.zeros((len(classes), 28, 28, 3))\n",
        "\n",
        "for i in range(len(classes)):\n",
        "    temp1, vis_img[i] = hog(classes[i], block_norm='L2', visualize=True)\n",
        "    lbp_img[i] = local_binary_pattern(classes[i], 10, 3)\n",
        "    sift[i] = draw_key_points(classes[i], return_sift_kp(classes[i]))\n",
        "    surf[i] = draw_key_points(classes[i], return_surf_kp(classes[i]))"
      ],
      "execution_count": 0,
      "outputs": []
    },
    {
      "metadata": {
        "hidden": true,
        "id": "cot6dG_kD1jP",
        "colab_type": "code",
        "colab": {}
      },
      "cell_type": "code",
      "source": [
        "data_vis = []\n",
        "for i in range(len(classes)):\n",
        "    data_vis.append(classes[i])\n",
        "for i in range(len(classes)):\n",
        "    data_vis.append(vis_img[i])\n",
        "for i in range(len(classes)):\n",
        "    data_vis.append(lbp_img[i])\n",
        "for i in range(len(classes)):\n",
        "    data_vis.append(sift[i])\n",
        "for i in range(len(classes)):\n",
        "    data_vis.append(surf[i])\n",
        "\n",
        "img_name_arr = []\n",
        "for i in range(len(classes)):\n",
        "    img_name_arr.append(class_label[i])\n",
        "for i in range(len(classes)):\n",
        "    img_name_arr.append('HOG of '+class_label[i])\n",
        "for i in range(len(classes)):\n",
        "    img_name_arr.append('LBP of '+class_label[i])\n",
        "for i in range(len(classes)):\n",
        "    img_name_arr.append('SIFT of '+class_label[i])\n",
        "for i in range(len(classes)):\n",
        "    img_name_arr.append('SURF of '+class_label[i])"
      ],
      "execution_count": 0,
      "outputs": []
    },
    {
      "metadata": {
        "hidden": true,
        "id": "aL-GF175D1jS",
        "colab_type": "code",
        "outputId": "b6fe88ad-aa57-4452-9f11-ad236294ef05",
        "colab": {
          "base_uri": "https://localhost:8080/",
          "height": 839
        }
      },
      "cell_type": "code",
      "source": [
        "plt.figure(figsize=(10,12))\n",
        "for i, img in enumerate(data_vis, start=1):\n",
        "    plt.subplot(5, 4, i)\n",
        "    plt.title(img_name_arr[i-1])\n",
        "    frame1 = plt.gca()\n",
        "    for tick in frame1.axes.get_xticklines():\n",
        "        tick.set_visible(False)\n",
        "    for tick in frame1.axes.get_yticklines():\n",
        "        tick.set_visible(False)\n",
        "    for xlabel_i in frame1.axes.get_xticklabels():\n",
        "        xlabel_i.set_visible(False)\n",
        "    for xlabel_i in frame1.axes.get_yticklabels():\n",
        "        xlabel_i.set_visible(False)\n",
        "    plt.imshow(data_vis[i-1], cmap='gray')\n",
        "plt.savefig(corpus+'/output/data_vis.png')\n",
        "plt.show()"
      ],
      "execution_count": 0,
      "outputs": [
        {
          "output_type": "stream",
          "text": [
            "Clipping input data to the valid range for imshow with RGB data ([0..1] for floats or [0..255] for integers).\n",
            "Clipping input data to the valid range for imshow with RGB data ([0..1] for floats or [0..255] for integers).\n",
            "Clipping input data to the valid range for imshow with RGB data ([0..1] for floats or [0..255] for integers).\n",
            "Clipping input data to the valid range for imshow with RGB data ([0..1] for floats or [0..255] for integers).\n",
            "Clipping input data to the valid range for imshow with RGB data ([0..1] for floats or [0..255] for integers).\n",
            "Clipping input data to the valid range for imshow with RGB data ([0..1] for floats or [0..255] for integers).\n",
            "Clipping input data to the valid range for imshow with RGB data ([0..1] for floats or [0..255] for integers).\n",
            "Clipping input data to the valid range for imshow with RGB data ([0..1] for floats or [0..255] for integers).\n"
          ],
          "name": "stderr"
        },
        {
          "output_type": "display_data",
          "data": {
            "image/png": "[encoded data removed]",
            "text/plain": [
              "<Figure size 720x864 with 20 Axes>"
            ]
          },
          "metadata": {
            "tags": []
          }
        }
      ]
    },
    {
      "metadata": {
        "heading_collapsed": true,
        "hidden": true,
        "id": "Ab7Jp7G3D1jW",
        "colab_type": "text"
      },
      "cell_type": "markdown",
      "source": [
        "#### HOG Features:"
      ]
    },
    {
      "metadata": {
        "id": "KqFDpjDAfeua",
        "colab_type": "code",
        "outputId": "4576fb7b-e08b-4d66-e303-e6092fdadce6",
        "colab": {
          "base_uri": "https://localhost:8080/",
          "height": 51
        }
      },
      "cell_type": "code",
      "source": [
        "hog_train = get_hog(train_imgs, name='hog_train', save=True)\n",
        "hog_val = get_hog(val_imgs, name='hog_val', save=True)"
      ],
      "execution_count": 0,
      "outputs": [
        {
          "output_type": "stream",
          "text": [
            "Feature saved with name cache/hog_train.pkl\n",
            "Feature saved with name cache/hog_val.pkl\n"
          ],
          "name": "stdout"
        }
      ]
    },
    {
      "metadata": {
        "id": "OyeZVBAkuj1E",
        "colab_type": "code",
        "colab": {}
      },
      "cell_type": "code",
      "source": [
        "hog_train = load_feature(corpus+'/cache/hog_train.pkl')\n",
        "hog_val = load_feature(corpus+'/cache/hog_val.pkl')"
      ],
      "execution_count": 0,
      "outputs": []
    },
    {
      "metadata": {
        "hidden": true,
        "id": "yQcOvUwZD1ja",
        "colab_type": "code",
        "outputId": "63aa8c1f-ef90-4c59-c12f-8669365e4d89",
        "colab": {
          "base_uri": "https://localhost:8080/",
          "height": 34
        }
      },
      "cell_type": "code",
      "source": [
        "hog_train.shape, hog_val.shape"
      ],
      "execution_count": 0,
      "outputs": [
        {
          "output_type": "execute_result",
          "data": {
            "text/plain": [
              "((84000, 81), (36000, 81))"
            ]
          },
          "metadata": {
            "tags": []
          },
          "execution_count": 93
        }
      ]
    },
    {
      "metadata": {
        "heading_collapsed": true,
        "hidden": true,
        "id": "7qjoRWhlD1jg",
        "colab_type": "text"
      },
      "cell_type": "markdown",
      "source": [
        "#### LBP Features:"
      ]
    },
    {
      "metadata": {
        "id": "eUYg-5W5f-BH",
        "colab_type": "code",
        "outputId": "2d8b642b-12b4-4d25-e650-07191bdd7641",
        "colab": {
          "base_uri": "https://localhost:8080/",
          "height": 51
        }
      },
      "cell_type": "code",
      "source": [
        "lbp_train = get_lbp(train_imgs, name='lbp_train', save=True)\n",
        "lbp_val = get_lbp(val_imgs, name='lbp_val', save=True)"
      ],
      "execution_count": 0,
      "outputs": [
        {
          "output_type": "stream",
          "text": [
            "Feature saved with name cache/lbp_train.pkl\n",
            "Feature saved with name cache/lbp_val.pkl\n"
          ],
          "name": "stdout"
        }
      ]
    },
    {
      "metadata": {
        "id": "KMDLkFSGu1KM",
        "colab_type": "code",
        "colab": {}
      },
      "cell_type": "code",
      "source": [
        "lbp_train = load_feature(corpus+'/cache/lbp_train.pkl')\n",
        "lbp_val = load_feature(corpus+'/cache/lbp_val.pkl')"
      ],
      "execution_count": 0,
      "outputs": []
    },
    {
      "metadata": {
        "hidden": true,
        "id": "eX78PyaYD1jl",
        "colab_type": "code",
        "outputId": "ff201b67-7095-486c-cb54-913391dfd600",
        "colab": {
          "base_uri": "https://localhost:8080/",
          "height": 34
        }
      },
      "cell_type": "code",
      "source": [
        "lbp_train.shape, lbp_val.shape"
      ],
      "execution_count": 0,
      "outputs": [
        {
          "output_type": "execute_result",
          "data": {
            "text/plain": [
              "((84000, 784), (36000, 784))"
            ]
          },
          "metadata": {
            "tags": []
          },
          "execution_count": 96
        }
      ]
    },
    {
      "metadata": {
        "heading_collapsed": true,
        "hidden": true,
        "id": "aL6mNjU1D1jt",
        "colab_type": "text"
      },
      "cell_type": "markdown",
      "source": [
        "#### KAZE Features:"
      ]
    },
    {
      "metadata": {
        "id": "ksKwlPBXgP6S",
        "colab_type": "code",
        "colab": {}
      },
      "cell_type": "code",
      "source": [
        "kaze_train = get_kaze(train_imgs, name='kaze_train', save=True)\n",
        "kaze_val = get_kaze(val_imgs, name='kaze_val', save=True)"
      ],
      "execution_count": 0,
      "outputs": []
    },
    {
      "metadata": {
        "id": "ie1zly0Yu8al",
        "colab_type": "code",
        "colab": {}
      },
      "cell_type": "code",
      "source": [
        "kaze_train = load_feature(corpus+'/cache/kaze_train.pkl')\n",
        "kaze_val = load_feature(corpus+'/cache/kaze_val.pkl')"
      ],
      "execution_count": 0,
      "outputs": []
    },
    {
      "metadata": {
        "hidden": true,
        "id": "Ke_SuiKXD1jw",
        "colab_type": "code",
        "colab": {}
      },
      "cell_type": "code",
      "source": [
        "kaze_train.shape, kaze_val.shape"
      ],
      "execution_count": 0,
      "outputs": []
    },
    {
      "metadata": {
        "heading_collapsed": true,
        "hidden": true,
        "id": "OJY0SahgD1j2",
        "colab_type": "text"
      },
      "cell_type": "markdown",
      "source": [
        "#### SIFT Features:"
      ]
    },
    {
      "metadata": {
        "hidden": true,
        "id": "3L1L3FfHD1j3",
        "colab_type": "code",
        "outputId": "b2fb282f-d9b3-45ab-f707-8694f9488933",
        "colab": {
          "base_uri": "https://localhost:8080/",
          "height": 51
        }
      },
      "cell_type": "code",
      "source": [
        "sift_train = get_sift(train_imgs, name='sift_train', save=True)\n",
        "sift_val = get_sift(val_imgs, name='sift_val', save=True)"
      ],
      "execution_count": 0,
      "outputs": [
        {
          "output_type": "stream",
          "text": [
            "Feature saved with name cache/sift_train.pkl\n",
            "Feature saved with name cache/sift_val.pkl\n"
          ],
          "name": "stdout"
        }
      ]
    },
    {
      "metadata": {
        "id": "D0AFBp4Gu9MF",
        "colab_type": "code",
        "colab": {}
      },
      "cell_type": "code",
      "source": [
        "sift_train = load_feature(corpus+'/cache/sift_train.pkl')\n",
        "sift_val = load_feature(corpus+'/cache/sift_val.pkl')"
      ],
      "execution_count": 0,
      "outputs": []
    },
    {
      "metadata": {
        "hidden": true,
        "id": "x-sgNNoGD1j4",
        "colab_type": "code",
        "outputId": "e0eb84e3-cfc0-426d-d0ca-142ce8e47468",
        "colab": {
          "base_uri": "https://localhost:8080/",
          "height": 34
        }
      },
      "cell_type": "code",
      "source": [
        "sift_train.shape, sift_val.shape"
      ],
      "execution_count": 0,
      "outputs": [
        {
          "output_type": "execute_result",
          "data": {
            "text/plain": [
              "((84000, 1024), (36000, 1024))"
            ]
          },
          "metadata": {
            "tags": []
          },
          "execution_count": 99
        }
      ]
    },
    {
      "metadata": {
        "heading_collapsed": true,
        "hidden": true,
        "id": "lVdc1YJcD1kA",
        "colab_type": "text"
      },
      "cell_type": "markdown",
      "source": [
        "#### SURF Features:"
      ]
    },
    {
      "metadata": {
        "hidden": true,
        "id": "CDxiBDryD1kB",
        "colab_type": "code",
        "outputId": "13f40927-e3a3-4563-ca09-b5a3343af6b0",
        "colab": {
          "base_uri": "https://localhost:8080/",
          "height": 51
        }
      },
      "cell_type": "code",
      "source": [
        "surf_train = get_surf(train_imgs, name='surf_train', save=True)\n",
        "surf_val = get_surf(val_imgs, name='surf_val', save=True)"
      ],
      "execution_count": 0,
      "outputs": [
        {
          "output_type": "stream",
          "text": [
            "Feature saved with name cache/surf_train.pkl\n",
            "Feature saved with name cache/surf_val.pkl\n"
          ],
          "name": "stdout"
        }
      ]
    },
    {
      "metadata": {
        "id": "JyxOepT8vdo2",
        "colab_type": "code",
        "colab": {}
      },
      "cell_type": "code",
      "source": [
        "surf_train = load_feature(corpus+'/cache/surf_train.pkl')\n",
        "surf_val = load_feature(corpus+'/cache/surf_val.pkl')"
      ],
      "execution_count": 0,
      "outputs": []
    },
    {
      "metadata": {
        "hidden": true,
        "id": "x1NDi1NND1kE",
        "colab_type": "code",
        "outputId": "bd487bbe-90af-407b-f46c-2ec41fb8cd22",
        "colab": {
          "base_uri": "https://localhost:8080/",
          "height": 34
        }
      },
      "cell_type": "code",
      "source": [
        "surf_train.shape, surf_val.shape"
      ],
      "execution_count": 0,
      "outputs": [
        {
          "output_type": "execute_result",
          "data": {
            "text/plain": [
              "((84000, 256), (36000, 256))"
            ]
          },
          "metadata": {
            "tags": []
          },
          "execution_count": 107
        }
      ]
    },
    {
      "metadata": {
        "heading_collapsed": true,
        "hidden": true,
        "id": "ebgUDzMYD1kN",
        "colab_type": "text"
      },
      "cell_type": "markdown",
      "source": [
        "#### Flattened Image"
      ]
    },
    {
      "metadata": {
        "hidden": true,
        "id": "2mh7PRDID1kZ",
        "colab_type": "code",
        "outputId": "e472bf55-3269-4544-c72c-944a5c15cfd7",
        "colab": {
          "base_uri": "https://localhost:8080/",
          "height": 51
        }
      },
      "cell_type": "code",
      "source": [
        "flat_gray_train = get_flattened(train_imgs, name='flat_gray_train', save=True)\n",
        "flat_gray_val = get_flattened(val_imgs, name='flat_gray_val', save=True)"
      ],
      "execution_count": 0,
      "outputs": [
        {
          "output_type": "stream",
          "text": [
            "Feature saved with name cache/flat_gray_train.pkl\n",
            "Feature saved with name cache/flat_gray_val.pkl\n"
          ],
          "name": "stdout"
        }
      ]
    },
    {
      "metadata": {
        "id": "3r6vzS4avpqZ",
        "colab_type": "code",
        "colab": {}
      },
      "cell_type": "code",
      "source": [
        "flat_gray_train = load_feature(corpus+'/cache/flat_gray_train.pkl')\n",
        "flat_gray_val = load_feature(corpus+'/cache/flat_gray_val.pkl')"
      ],
      "execution_count": 0,
      "outputs": []
    },
    {
      "metadata": {
        "hidden": true,
        "id": "DPDSh7TxD1kc",
        "colab_type": "code",
        "outputId": "793e13bd-fa19-405b-b743-4159719d3b4b",
        "colab": {
          "base_uri": "https://localhost:8080/",
          "height": 34
        }
      },
      "cell_type": "code",
      "source": [
        "flat_gray_train.shape, flat_gray_val.shape"
      ],
      "execution_count": 0,
      "outputs": [
        {
          "output_type": "execute_result",
          "data": {
            "text/plain": [
              "((84000, 784), (36000, 784))"
            ]
          },
          "metadata": {
            "tags": []
          },
          "execution_count": 109
        }
      ]
    },
    {
      "metadata": {
        "heading_collapsed": true,
        "id": "IL5WG6z7D1kv",
        "colab_type": "text"
      },
      "cell_type": "markdown",
      "source": [
        "### Reduce Features by PCA:"
      ]
    },
    {
      "metadata": {
        "heading_collapsed": true,
        "hidden": true,
        "id": "mYLth71gD1kw",
        "colab_type": "text"
      },
      "cell_type": "markdown",
      "source": [
        "#### HOG Features:"
      ]
    },
    {
      "metadata": {
        "hidden": true,
        "id": "chJDfJNgD1kx",
        "colab_type": "code",
        "colab": {}
      },
      "cell_type": "code",
      "source": [
        "# norm_hog_train, norm_hog_val = norm_features_minmax(hog_train, hog_val)\n",
        "norm_hog_train, norm_hog_val = norm_features_zscore(hog_train, hog_val)"
      ],
      "execution_count": 0,
      "outputs": []
    },
    {
      "metadata": {
        "id": "2vWXJM1smDiz",
        "colab_type": "code",
        "colab": {}
      },
      "cell_type": "code",
      "source": [
        "pca = PCA(n_components=8)\n",
        "pca_hog_train = pca.fit_transform(norm_hog_train)\n",
        "pca_hog_val = pca.transform(norm_hog_val)"
      ],
      "execution_count": 0,
      "outputs": []
    },
    {
      "metadata": {
        "hidden": true,
        "id": "TAUR5XozD1k4",
        "colab_type": "code",
        "outputId": "d2cb8392-25c8-4bbd-c5c3-53a2dba0e984",
        "colab": {
          "base_uri": "https://localhost:8080/",
          "height": 34
        }
      },
      "cell_type": "code",
      "source": [
        "pca_hog_train.shape, pca_hog_val.shape"
      ],
      "execution_count": 0,
      "outputs": [
        {
          "output_type": "execute_result",
          "data": {
            "text/plain": [
              "((84000, 8), (36000, 8))"
            ]
          },
          "metadata": {
            "tags": []
          },
          "execution_count": 102
        }
      ]
    },
    {
      "metadata": {
        "heading_collapsed": true,
        "hidden": true,
        "id": "ehnCEUUaD1lE",
        "colab_type": "text"
      },
      "cell_type": "markdown",
      "source": [
        "#### LBP Features:"
      ]
    },
    {
      "metadata": {
        "hidden": true,
        "id": "Ky_aLE_YD1lF",
        "colab_type": "code",
        "colab": {}
      },
      "cell_type": "code",
      "source": [
        "# norm_lbp_train, norm_lbp_val = norm_features_minmax(lbp_train, lbp_val)\n",
        "norm_lbp_train, norm_lbp_val = norm_features_zscore(lbp_train, lbp_val)"
      ],
      "execution_count": 0,
      "outputs": []
    },
    {
      "metadata": {
        "id": "DqrrjNzBmEan",
        "colab_type": "code",
        "colab": {}
      },
      "cell_type": "code",
      "source": [
        "pca = PCA(n_components=10)\n",
        "pca_lbp_train = pca.fit_transform(norm_lbp_train)\n",
        "pca_lbp_val = pca.transform(norm_lbp_val)"
      ],
      "execution_count": 0,
      "outputs": []
    },
    {
      "metadata": {
        "hidden": true,
        "id": "9jifmAWGD1lJ",
        "colab_type": "code",
        "outputId": "05090f8c-e7a4-4dfa-9ab6-361160306c42",
        "colab": {
          "base_uri": "https://localhost:8080/",
          "height": 34
        }
      },
      "cell_type": "code",
      "source": [
        "pca_lbp_train.shape, pca_lbp_val.shape"
      ],
      "execution_count": 0,
      "outputs": [
        {
          "output_type": "execute_result",
          "data": {
            "text/plain": [
              "((84000, 10), (36000, 10))"
            ]
          },
          "metadata": {
            "tags": []
          },
          "execution_count": 105
        }
      ]
    },
    {
      "metadata": {
        "heading_collapsed": true,
        "hidden": true,
        "id": "IJwwkDcSD1lQ",
        "colab_type": "text"
      },
      "cell_type": "markdown",
      "source": [
        "#### KAZE Features:"
      ]
    },
    {
      "metadata": {
        "hidden": true,
        "id": "YDv8eX9-D1lQ",
        "colab_type": "code",
        "outputId": "54002c14-bb0b-46dc-b6d8-a67514ce7dcc",
        "colab": {
          "base_uri": "https://localhost:8080/",
          "height": 180
        }
      },
      "cell_type": "code",
      "source": [
        "norm_kaze_train, norm_kaze_val = norm_features_minmax(kaze_train, kaze_val)\n",
        "# norm_kaze_train, norm_kaze_val = norm_features_zscore(kaze_train, kaze_val)"
      ],
      "execution_count": 0,
      "outputs": [
        {
          "output_type": "error",
          "ename": "NameError",
          "evalue": "ignored",
          "traceback": [
            "\u001b[0;31m---------------------------------------------------------------------------\u001b[0m",
            "\u001b[0;31mNameError\u001b[0m                                 Traceback (most recent call last)",
            "\u001b[0;32m<ipython-input-62-1873ddb9c2cb>\u001b[0m in \u001b[0;36m<module>\u001b[0;34m()\u001b[0m\n\u001b[0;32m----> 1\u001b[0;31m \u001b[0mnorm_kaze_train\u001b[0m\u001b[0;34m,\u001b[0m \u001b[0mnorm_kaze_val\u001b[0m \u001b[0;34m=\u001b[0m \u001b[0mnorm_features_minmax\u001b[0m\u001b[0;34m(\u001b[0m\u001b[0mkaze_train\u001b[0m\u001b[0;34m,\u001b[0m \u001b[0mkaze_val\u001b[0m\u001b[0;34m)\u001b[0m\u001b[0;34m\u001b[0m\u001b[0;34m\u001b[0m\u001b[0m\n\u001b[0m\u001b[1;32m      2\u001b[0m \u001b[0;31m# norm_kaze_train, norm_kaze_val = norm_features_zscore(kaze_train, kaze_val)\u001b[0m\u001b[0;34m\u001b[0m\u001b[0;34m\u001b[0m\u001b[0;34m\u001b[0m\u001b[0m\n",
            "\u001b[0;31mNameError\u001b[0m: name 'kaze_train' is not defined"
          ]
        }
      ]
    },
    {
      "metadata": {
        "id": "1KAxTqJxmFYu",
        "colab_type": "code",
        "colab": {}
      },
      "cell_type": "code",
      "source": [
        "pca = PCA(n_components=15)\n",
        "pca_kaze_train = pca.fit_transform(norm_kaze_train)\n",
        "pca_kaze_val = pca.transform(norm_kaze_val)"
      ],
      "execution_count": 0,
      "outputs": []
    },
    {
      "metadata": {
        "hidden": true,
        "id": "GV8OfcjrD1lT",
        "colab_type": "code",
        "outputId": "705efdfe-2ba3-4278-a61d-1d19a61f580b",
        "colab": {}
      },
      "cell_type": "code",
      "source": [
        "pca_kaze_train.shape, pca_kaze_val.shape"
      ],
      "execution_count": 0,
      "outputs": [
        {
          "output_type": "execute_result",
          "data": {
            "text/plain": [
              "((17636, 10), (4410, 10))"
            ]
          },
          "metadata": {
            "tags": []
          },
          "execution_count": 238
        }
      ]
    },
    {
      "metadata": {
        "heading_collapsed": true,
        "hidden": true,
        "id": "xqDxQf4ED1lZ",
        "colab_type": "text"
      },
      "cell_type": "markdown",
      "source": [
        "#### SIFT Features:"
      ]
    },
    {
      "metadata": {
        "hidden": true,
        "id": "ZG1T3DM4D1lb",
        "colab_type": "code",
        "colab": {}
      },
      "cell_type": "code",
      "source": [
        "# norm_sift_train, norm_sift_val = norm_features_minmax(sift_train, sift_val)\n",
        "norm_sift_train, norm_sift_val = norm_features_zscore(sift_train, sift_val)"
      ],
      "execution_count": 0,
      "outputs": []
    },
    {
      "metadata": {
        "hidden": true,
        "id": "W_f4Fm8YD1lc",
        "colab_type": "code",
        "colab": {}
      },
      "cell_type": "code",
      "source": [
        "pca = PCA(n_components=5)\n",
        "pca_sift_train = pca.fit_transform(norm_sift_train)\n",
        "pca_sift_val = pca.transform(norm_sift_val)"
      ],
      "execution_count": 0,
      "outputs": []
    },
    {
      "metadata": {
        "hidden": true,
        "id": "Uh23sFDPD1le",
        "colab_type": "code",
        "outputId": "def5e4be-7805-49ba-be25-3c52a399c616",
        "colab": {
          "base_uri": "https://localhost:8080/",
          "height": 34
        }
      },
      "cell_type": "code",
      "source": [
        "pca_sift_train.shape, pca_sift_val.shape"
      ],
      "execution_count": 0,
      "outputs": [
        {
          "output_type": "execute_result",
          "data": {
            "text/plain": [
              "((84000, 5), (36000, 5))"
            ]
          },
          "metadata": {
            "tags": []
          },
          "execution_count": 108
        }
      ]
    },
    {
      "metadata": {
        "heading_collapsed": true,
        "hidden": true,
        "id": "FFDYIPb4D1lj",
        "colab_type": "text"
      },
      "cell_type": "markdown",
      "source": [
        "#### SURF Features:"
      ]
    },
    {
      "metadata": {
        "hidden": true,
        "id": "ev5V1M-uD1lj",
        "colab_type": "code",
        "colab": {}
      },
      "cell_type": "code",
      "source": [
        "# norm_surf_train, norm_surf_val = norm_features_minmax(surf_train, surf_val)\n",
        "norm_surf_train, norm_surf_val = norm_features_zscore(surf_train, surf_val)"
      ],
      "execution_count": 0,
      "outputs": []
    },
    {
      "metadata": {
        "hidden": true,
        "id": "9rMywDI8D1lk",
        "colab_type": "code",
        "colab": {}
      },
      "cell_type": "code",
      "source": [
        "pca = PCA(n_components=10)\n",
        "pca_surf_train = pca.fit_transform(norm_surf_train)\n",
        "pca_surf_val = pca.transform(norm_surf_val)"
      ],
      "execution_count": 0,
      "outputs": []
    },
    {
      "metadata": {
        "hidden": true,
        "id": "6XXs85szD1lm",
        "colab_type": "code",
        "outputId": "ff923a90-9abb-410c-e54b-fc19fb21be8f",
        "colab": {
          "base_uri": "https://localhost:8080/",
          "height": 54
        }
      },
      "cell_type": "code",
      "source": [
        "pca_surf_train.shape, pca_surf_val.shape"
      ],
      "execution_count": 0,
      "outputs": [
        {
          "output_type": "execute_result",
          "data": {
            "text/plain": [
              "((84000, 10), (36000, 10))"
            ]
          },
          "metadata": {
            "tags": []
          },
          "execution_count": 134
        }
      ]
    },
    {
      "metadata": {
        "heading_collapsed": true,
        "hidden": true,
        "id": "o90_KEF7D1lv",
        "colab_type": "text"
      },
      "cell_type": "markdown",
      "source": [
        "#### Flattened Image"
      ]
    },
    {
      "metadata": {
        "hidden": true,
        "id": "gQatjCRxD1l4",
        "colab_type": "code",
        "outputId": "f4edd99b-61a9-4d82-8922-f3cc8d2aee65",
        "colab": {
          "base_uri": "https://localhost:8080/",
          "height": 139
        }
      },
      "cell_type": "code",
      "source": [
        "# norm_flat_gray_train, norm_flat_gray_val = norm_features_minmax(flat_gray_train, flat_gray_val)\n",
        "norm_flat_gray_train, norm_flat_gray_val = norm_features_zscore(flat_gray_train, flat_gray_val)"
      ],
      "execution_count": 0,
      "outputs": [
        {
          "output_type": "stream",
          "text": [
            "/usr/local/lib/python3.6/dist-packages/sklearn/utils/validation.py:595: DataConversionWarning: Data with input dtype uint8 was converted to float64 by StandardScaler.\n",
            "  warnings.warn(msg, DataConversionWarning)\n",
            "/usr/local/lib/python3.6/dist-packages/sklearn/utils/validation.py:595: DataConversionWarning: Data with input dtype uint8 was converted to float64 by StandardScaler.\n",
            "  warnings.warn(msg, DataConversionWarning)\n",
            "/usr/local/lib/python3.6/dist-packages/sklearn/utils/validation.py:595: DataConversionWarning: Data with input dtype uint8 was converted to float64 by StandardScaler.\n",
            "  warnings.warn(msg, DataConversionWarning)\n"
          ],
          "name": "stderr"
        }
      ]
    },
    {
      "metadata": {
        "hidden": true,
        "id": "DIx9NOJQD1l8",
        "colab_type": "code",
        "colab": {}
      },
      "cell_type": "code",
      "source": [
        "pca = PCA(n_components=10)\n",
        "pca_flat_gray_train = pca.fit_transform(norm_flat_gray_train)\n",
        "pca_flat_gray_val = pca.transform(norm_flat_gray_val)"
      ],
      "execution_count": 0,
      "outputs": []
    },
    {
      "metadata": {
        "hidden": true,
        "id": "q_VytnUfD1l-",
        "colab_type": "code",
        "outputId": "b44bf723-5020-48ed-f92d-ab8ad1d98b97",
        "colab": {
          "base_uri": "https://localhost:8080/",
          "height": 54
        }
      },
      "cell_type": "code",
      "source": [
        "pca_flat_gray_train.shape, pca_flat_gray_val.shape"
      ],
      "execution_count": 0,
      "outputs": [
        {
          "output_type": "execute_result",
          "data": {
            "text/plain": [
              "((84000, 10), (36000, 10))"
            ]
          },
          "metadata": {
            "tags": []
          },
          "execution_count": 137
        }
      ]
    },
    {
      "metadata": {
        "heading_collapsed": true,
        "id": "viKQ83pBD1mR",
        "colab_type": "text"
      },
      "cell_type": "markdown",
      "source": [
        "### Feature PCA variance comparison:"
      ]
    },
    {
      "metadata": {
        "hidden": true,
        "id": "k0WrDpYsD1mR",
        "colab_type": "code",
        "outputId": "691de560-d5cf-417c-f2ca-747fbf359b7f",
        "colab": {
          "base_uri": "https://localhost:8080/",
          "height": 34
        }
      },
      "cell_type": "code",
      "source": [
        "pca_array = []\n",
        "pca_array.append(pca_hog_train)\n",
        "pca_array.append(pca_lbp_train)\n",
        "pca_array.append(pca_sift_train)\n",
        "pca_array.append(pca_surf_train)\n",
        "# pca_array.append(pca_kaze_train)\n",
        "pca_array.append(pca_flat_gray_train)\n",
        "len(pca_array)"
      ],
      "execution_count": 0,
      "outputs": [
        {
          "output_type": "execute_result",
          "data": {
            "text/plain": [
              "5"
            ]
          },
          "metadata": {
            "tags": []
          },
          "execution_count": 61
        }
      ]
    },
    {
      "metadata": {
        "hidden": true,
        "scrolled": true,
        "id": "PGRe5mB8D1mS",
        "colab_type": "code",
        "outputId": "1880427f-0820-4cc1-b124-19165fcc4fcd",
        "colab": {
          "base_uri": "https://localhost:8080/",
          "height": 893
        }
      },
      "cell_type": "code",
      "source": [
        "pca_projection(pca_array, ['HOG', 'LBP', 'SIFT', 'SURF', 'Flatten GRAY'])"
      ],
      "execution_count": 0,
      "outputs": [
        {
          "output_type": "display_data",
          "data": {
            "image/png": "[encoded data removed]",
            "text/plain": [
              "<Figure size 720x1080 with 5 Axes>"
            ]
          },
          "metadata": {
            "tags": []
          }
        }
      ]
    },
    {
      "metadata": {
        "heading_collapsed": true,
        "id": "1K3KRx5DD1mU",
        "colab_type": "text"
      },
      "cell_type": "markdown",
      "source": [
        "### Reduce Features by LDA:"
      ]
    },
    {
      "metadata": {
        "heading_collapsed": true,
        "hidden": true,
        "id": "ooCw4HWvD1mV",
        "colab_type": "text"
      },
      "cell_type": "markdown",
      "source": [
        "#### HOG Features:"
      ]
    },
    {
      "metadata": {
        "id": "LvbiOK-cl-Ag",
        "colab_type": "code",
        "colab": {}
      },
      "cell_type": "code",
      "source": [
        "lda = LDA()\n",
        "lda_hog_train = lda.fit_transform(norm_hog_train, train_y)\n",
        "lda_hog_val = lda.transform(norm_hog_val)"
      ],
      "execution_count": 0,
      "outputs": []
    },
    {
      "metadata": {
        "hidden": true,
        "id": "c17jEqYbD1mY",
        "colab_type": "code",
        "outputId": "43e71459-6a6f-43c4-e4db-04153e0ac8e3",
        "colab": {
          "base_uri": "https://localhost:8080/",
          "height": 34
        }
      },
      "cell_type": "code",
      "source": [
        "lda_hog_train.shape, lda_hog_val.shape"
      ],
      "execution_count": 0,
      "outputs": [
        {
          "output_type": "execute_result",
          "data": {
            "text/plain": [
              "((84000, 9), (36000, 9))"
            ]
          },
          "metadata": {
            "tags": []
          },
          "execution_count": 110
        }
      ]
    },
    {
      "metadata": {
        "heading_collapsed": true,
        "hidden": true,
        "id": "fGRbEQ_PD1ml",
        "colab_type": "text"
      },
      "cell_type": "markdown",
      "source": [
        "#### LBP Features:"
      ]
    },
    {
      "metadata": {
        "id": "bEGrOz6xl-zz",
        "colab_type": "code",
        "outputId": "21025ecc-3634-41ff-ced3-1379961e31f6",
        "colab": {
          "base_uri": "https://localhost:8080/",
          "height": 51
        }
      },
      "cell_type": "code",
      "source": [
        "lda = LDA()\n",
        "lda_lbp_train = lda.fit_transform(norm_lbp_train, train_y)\n",
        "lda_lbp_val = lda.transform(norm_lbp_val)"
      ],
      "execution_count": 0,
      "outputs": [
        {
          "output_type": "stream",
          "text": [
            "/usr/local/lib/python3.6/dist-packages/sklearn/discriminant_analysis.py:388: UserWarning: Variables are collinear.\n",
            "  warnings.warn(\"Variables are collinear.\")\n"
          ],
          "name": "stderr"
        }
      ]
    },
    {
      "metadata": {
        "hidden": true,
        "id": "1h5hKSz3D1mp",
        "colab_type": "code",
        "outputId": "4b2c7bf2-04fe-487d-dd99-fb7486d8f1c9",
        "colab": {
          "base_uri": "https://localhost:8080/",
          "height": 34
        }
      },
      "cell_type": "code",
      "source": [
        "lda_lbp_train.shape, lda_lbp_val.shape"
      ],
      "execution_count": 0,
      "outputs": [
        {
          "output_type": "execute_result",
          "data": {
            "text/plain": [
              "((84000, 9), (36000, 9))"
            ]
          },
          "metadata": {
            "tags": []
          },
          "execution_count": 112
        }
      ]
    },
    {
      "metadata": {
        "heading_collapsed": true,
        "hidden": true,
        "id": "rppmm_6_D1m1",
        "colab_type": "text"
      },
      "cell_type": "markdown",
      "source": [
        "#### SIFT"
      ]
    },
    {
      "metadata": {
        "id": "jtT_6M9gl_W2",
        "colab_type": "code",
        "colab": {}
      },
      "cell_type": "code",
      "source": [
        "lda = LDA()\n",
        "lda_sift_train = lda.fit_transform(norm_sift_train, train_y)\n",
        "lda_sift_val = lda.transform(norm_sift_val)"
      ],
      "execution_count": 0,
      "outputs": []
    },
    {
      "metadata": {
        "hidden": true,
        "id": "OWXmmwbMD1m5",
        "colab_type": "code",
        "outputId": "d71a113c-629d-4943-d6f9-2a40176afa0c",
        "colab": {
          "base_uri": "https://localhost:8080/",
          "height": 34
        }
      },
      "cell_type": "code",
      "source": [
        "lda_sift_train.shape, lda_sift_val.shape"
      ],
      "execution_count": 0,
      "outputs": [
        {
          "output_type": "execute_result",
          "data": {
            "text/plain": [
              "((84000, 9), (36000, 9))"
            ]
          },
          "metadata": {
            "tags": []
          },
          "execution_count": 114
        }
      ]
    },
    {
      "metadata": {
        "heading_collapsed": true,
        "id": "ROgaq7MmD1nF",
        "colab_type": "text"
      },
      "cell_type": "markdown",
      "source": [
        "### Combine Features normal:"
      ]
    },
    {
      "metadata": {
        "hidden": true,
        "id": "i-6EvU9MD1nF",
        "colab_type": "code",
        "colab": {}
      },
      "cell_type": "code",
      "source": [
        "features_train = None\n",
        "features_val = None\n",
        "evs = []\n",
        "for ft, fv in zip([hog_train, surf_train, flat_gray_train, lbp_train, sift_train], \n",
        "                  [hog_val, surf_val, flat_gray_val, lbp_val, sift_val]):    \n",
        "#     scaler = preprocessing.StandardScaler()\n",
        "#     ft = scaler.fit_transform(ft)\n",
        "#     fv = scaler.transform(fv)\n",
        "#     ft = preprocessing.normalize(ft)\n",
        "#     fv = preprocessing.normalize(fv)\n",
        "    if features_train is None:\n",
        "        features_train = ft\n",
        "        features_val = fv\n",
        "    else:\n",
        "        features_train = combine_features([features_train, ft])\n",
        "        features_val = combine_features([features_val, fv])"
      ],
      "execution_count": 0,
      "outputs": []
    },
    {
      "metadata": {
        "hidden": true,
        "id": "c87pNszeD1nH",
        "colab_type": "code",
        "colab": {}
      },
      "cell_type": "code",
      "source": [
        "features_train.shape, features_val.shape"
      ],
      "execution_count": 0,
      "outputs": []
    },
    {
      "metadata": {
        "heading_collapsed": true,
        "id": "ApbbZ-rUD1nI",
        "colab_type": "text"
      },
      "cell_type": "markdown",
      "source": [
        "### Combine Features PCA:"
      ]
    },
    {
      "metadata": {
        "hidden": true,
        "id": "FO6waaFnD1nI",
        "colab_type": "code",
        "colab": {}
      },
      "cell_type": "code",
      "source": [
        "features_train = None\n",
        "features_val = None\n",
        "evs = []\n",
        "for ft, fv in zip([pca_hog_train, pca_lbp_train, pca_sift_train, pca_surf_train, pca_flat_gray_train], \n",
        "                  [pca_hog_val, pca_lbp_val, pca_sift_val, pca_surf_val, pca_flat_gray_val]):    \n",
        "#     scaler = preprocessing.StandardScaler()\n",
        "#     ft = scaler.fit_transform(ft)\n",
        "#     fv = scaler.transform(fv)\n",
        "#     ft = preprocessing.normalize(ft)\n",
        "#     fv = preprocessing.normalize(fv)\n",
        "    if features_train is None:\n",
        "        features_train = ft\n",
        "        features_val = fv\n",
        "    else:\n",
        "        features_train = combine_features([features_train, ft])\n",
        "        features_val = combine_features([features_val, fv])"
      ],
      "execution_count": 0,
      "outputs": []
    },
    {
      "metadata": {
        "hidden": true,
        "id": "_cFMzCUPD1nK",
        "colab_type": "code",
        "outputId": "8c74ca24-47f4-4b98-a13a-c1f3d44f0ff5",
        "colab": {
          "base_uri": "https://localhost:8080/",
          "height": 34
        }
      },
      "cell_type": "code",
      "source": [
        "features_train.shape, features_val.shape"
      ],
      "execution_count": 0,
      "outputs": [
        {
          "output_type": "execute_result",
          "data": {
            "text/plain": [
              "((84000, 43), (36000, 43))"
            ]
          },
          "metadata": {
            "tags": []
          },
          "execution_count": 129
        }
      ]
    },
    {
      "metadata": {
        "heading_collapsed": true,
        "id": "0vc7tv1RD1nM",
        "colab_type": "text"
      },
      "cell_type": "markdown",
      "source": [
        "### Combine Features LDA:"
      ]
    },
    {
      "metadata": {
        "hidden": true,
        "id": "sC1MIWIlD1nM",
        "colab_type": "code",
        "colab": {}
      },
      "cell_type": "code",
      "source": [
        "features_train_lda = None\n",
        "features_val_lda = None\n",
        "evs = []\n",
        "for ft, fv in zip([lda_hog_train, lda_lbp_train, lda_sift_train], \n",
        "                  [lda_hog_val, lda_lbp_val, lda_sift_val]):    \n",
        "#     scaler = preprocessing.StandardScaler()\n",
        "#     ft = scaler.fit_transform(ft)\n",
        "#     fv = scaler.transform(fv)\n",
        "#     ft = preprocessing.normalize(ft)\n",
        "#     fv = preprocessing.normalize(fv)\n",
        "    if features_train_lda is None:\n",
        "        features_train_lda = ft\n",
        "        features_val_lda = fv\n",
        "    else:\n",
        "        features_train_lda = combine_features([features_train_lda, ft])\n",
        "        features_val_lda = combine_features([features_val_lda, fv])"
      ],
      "execution_count": 0,
      "outputs": []
    },
    {
      "metadata": {
        "hidden": true,
        "id": "UMr11U7nD1nM",
        "colab_type": "code",
        "outputId": "c1418552-990c-46f0-f57c-65797e134a62",
        "colab": {
          "base_uri": "https://localhost:8080/",
          "height": 34
        }
      },
      "cell_type": "code",
      "source": [
        "features_train_lda.shape, features_val_lda.shape"
      ],
      "execution_count": 0,
      "outputs": [
        {
          "output_type": "execute_result",
          "data": {
            "text/plain": [
              "((84000, 27), (36000, 27))"
            ]
          },
          "metadata": {
            "tags": []
          },
          "execution_count": 116
        }
      ]
    },
    {
      "metadata": {
        "id": "r826QQ5uD1nR",
        "colab_type": "text"
      },
      "cell_type": "markdown",
      "source": [
        "### Classification:"
      ]
    },
    {
      "metadata": {
        "id": "OxqZRKZsD1nS",
        "colab_type": "code",
        "outputId": "d76ac442-1880-432a-aa4a-2d9b8982df36",
        "colab": {
          "base_uri": "https://localhost:8080/",
          "height": 34
        }
      },
      "cell_type": "code",
      "source": [
        "model1 = train_model(features_train, train_y, model_name='RF', validation=(features_val, val_y))"
      ],
      "execution_count": 0,
      "outputs": [
        {
          "output_type": "stream",
          "text": [
            "Validation Accuracy in 'RF' = 0.8641666666666666\n"
          ],
          "name": "stdout"
        }
      ]
    },
    {
      "metadata": {
        "id": "0KB4App3D1nX",
        "colab_type": "code",
        "outputId": "7b8b9c8f-078d-4b91-c304-2d900569b3b0",
        "colab": {
          "base_uri": "https://localhost:8080/",
          "height": 34
        }
      },
      "cell_type": "code",
      "source": [
        "model2 = train_model(features_train, train_y, model_name='BAG', validation=(features_val, val_y))"
      ],
      "execution_count": 0,
      "outputs": [
        {
          "output_type": "stream",
          "text": [
            "Validation Accuracy in 'BAG' = 0.8856111111111111\n"
          ],
          "name": "stdout"
        }
      ]
    },
    {
      "metadata": {
        "id": "zlrGQHFzD1na",
        "colab_type": "code",
        "outputId": "b8e30f0c-ab3b-4106-973c-2dcf7c4a625b",
        "colab": {
          "base_uri": "https://localhost:8080/",
          "height": 34
        }
      },
      "cell_type": "code",
      "source": [
        "model3 = train_model(features_train, train_y, model_name='ADA', validation=(features_val, val_y))"
      ],
      "execution_count": 0,
      "outputs": [
        {
          "output_type": "stream",
          "text": [
            "Validation Accuracy in 'ADA' = 0.7478611111111111\n"
          ],
          "name": "stdout"
        }
      ]
    },
    {
      "metadata": {
        "id": "5xZyv7EJD1na",
        "colab_type": "code",
        "outputId": "4659e0e3-55f5-404c-cf46-6a965317d5f4",
        "colab": {
          "base_uri": "https://localhost:8080/",
          "height": 34
        }
      },
      "cell_type": "code",
      "source": [
        "model4 = train_model(features_train, train_y, model_name='NB', validation=(features_val, val_y))"
      ],
      "execution_count": 0,
      "outputs": [
        {
          "output_type": "stream",
          "text": [
            "Validation Accuracy in 'NB' = 0.7291111111111112\n"
          ],
          "name": "stdout"
        }
      ]
    },
    {
      "metadata": {
        "id": "bdZ6D0ZSD1nc",
        "colab_type": "code",
        "outputId": "f3fc3695-80d1-4009-8530-625334b87d0c",
        "colab": {
          "base_uri": "https://localhost:8080/",
          "height": 34
        }
      },
      "cell_type": "code",
      "source": [
        "model5 = train_model(features_train, train_y, model_name='SVM', validation=(features_val, val_y))"
      ],
      "execution_count": 0,
      "outputs": [
        {
          "output_type": "stream",
          "text": [
            "Validation Accuracy in 'SVM' = 0.9141666666666667\n"
          ],
          "name": "stdout"
        }
      ]
    },
    {
      "metadata": {
        "id": "I6ISjxZLD1nd",
        "colab_type": "code",
        "outputId": "993d448b-a2a1-4b9f-d903-54f778f2d7e9",
        "colab": {
          "base_uri": "https://localhost:8080/",
          "height": 34
        }
      },
      "cell_type": "code",
      "source": [
        "model6 = train_model(np.array(features_train), train_y, model_name='XGB', validation=(features_val, val_y))"
      ],
      "execution_count": 0,
      "outputs": [
        {
          "output_type": "stream",
          "text": [
            "Validation Accuracy in 'XGB' = 0.9096111111111111\n"
          ],
          "name": "stdout"
        }
      ]
    },
    {
      "metadata": {
        "id": "vXcguBxkD1nf",
        "colab_type": "code",
        "outputId": "5ba8d362-e79d-4ee0-ae2c-90788f4b4f57",
        "colab": {
          "base_uri": "https://localhost:8080/",
          "height": 34
        }
      },
      "cell_type": "code",
      "source": [
        "model7 = train_model(np.array(features_train), train_y, model_name='KNN', validation=(features_val, val_y))"
      ],
      "execution_count": 0,
      "outputs": [
        {
          "output_type": "stream",
          "text": [
            "Validation Accuracy in 'KNN' = 0.8607777777777778\n"
          ],
          "name": "stdout"
        }
      ]
    },
    {
      "metadata": {
        "id": "UDG_Fg2Bf5kz",
        "colab_type": "code",
        "colab": {}
      },
      "cell_type": "code",
      "source": [
        ""
      ],
      "execution_count": 0,
      "outputs": []
    },
    {
      "metadata": {
        "id": "M-hWsqZqf5s0",
        "colab_type": "code",
        "outputId": "7b97e481-207d-48a7-eb55-da82aef5e833",
        "colab": {
          "base_uri": "https://localhost:8080/",
          "height": 34
        }
      },
      "cell_type": "code",
      "source": [
        "model8 = train_model(features_train_lda, train_y, model_name='RF', validation=(features_val_lda, val_y))"
      ],
      "execution_count": 0,
      "outputs": [
        {
          "output_type": "stream",
          "text": [
            "Validation Accuracy in 'RF' = 0.8913055555555556\n"
          ],
          "name": "stdout"
        }
      ]
    },
    {
      "metadata": {
        "id": "UCk1fb5uf6FP",
        "colab_type": "code",
        "outputId": "a3094bff-e953-4208-b478-048e9dd7b90f",
        "colab": {
          "base_uri": "https://localhost:8080/",
          "height": 34
        }
      },
      "cell_type": "code",
      "source": [
        "model9 = train_model(features_train_lda, train_y, model_name='BAG', validation=(features_val_lda, val_y))"
      ],
      "execution_count": 0,
      "outputs": [
        {
          "output_type": "stream",
          "text": [
            "Validation Accuracy in 'BAG' = 0.89925\n"
          ],
          "name": "stdout"
        }
      ]
    },
    {
      "metadata": {
        "id": "Jv4EomD7f6I8",
        "colab_type": "code",
        "outputId": "554fac41-76b7-488c-da2c-5252725385b7",
        "colab": {
          "base_uri": "https://localhost:8080/",
          "height": 34
        }
      },
      "cell_type": "code",
      "source": [
        "model10 = train_model(features_train_lda, train_y, model_name='ADA', validation=(features_val_lda, val_y))"
      ],
      "execution_count": 0,
      "outputs": [
        {
          "output_type": "stream",
          "text": [
            "Validation Accuracy in 'ADA' = 0.8418333333333333\n"
          ],
          "name": "stdout"
        }
      ]
    },
    {
      "metadata": {
        "id": "26wjfpVlf6Mi",
        "colab_type": "code",
        "outputId": "382b48cf-3967-406b-ea7e-1c8f502b2783",
        "colab": {
          "base_uri": "https://localhost:8080/",
          "height": 34
        }
      },
      "cell_type": "code",
      "source": [
        "model11 = train_model(features_train_lda, train_y, model_name='NB', validation=(features_val_lda, val_y))"
      ],
      "execution_count": 0,
      "outputs": [
        {
          "output_type": "stream",
          "text": [
            "Validation Accuracy in 'NB' = 0.8843888888888889\n"
          ],
          "name": "stdout"
        }
      ]
    },
    {
      "metadata": {
        "id": "yo37DwXSf6QV",
        "colab_type": "code",
        "outputId": "d52d3430-4c13-472f-e31f-8341b2a2e251",
        "colab": {
          "base_uri": "https://localhost:8080/",
          "height": 34
        }
      },
      "cell_type": "code",
      "source": [
        "model12 = train_model(features_train_lda, train_y, model_name='SVM', validation=(features_val_lda, val_y))"
      ],
      "execution_count": 0,
      "outputs": [
        {
          "output_type": "stream",
          "text": [
            "Validation Accuracy in 'SVM' = 0.9233333333333333\n"
          ],
          "name": "stdout"
        }
      ]
    },
    {
      "metadata": {
        "id": "pIcEIotef6UG",
        "colab_type": "code",
        "colab": {
          "base_uri": "https://localhost:8080/",
          "height": 34
        },
        "outputId": "ba53351a-38ff-440a-feba-301db9b8ae44"
      },
      "cell_type": "code",
      "source": [
        "model13 = train_model(np.array(features_train_lda), train_y, model_name='XGB', validation=(features_val_lda, val_y))"
      ],
      "execution_count": 117,
      "outputs": [
        {
          "output_type": "stream",
          "text": [
            "Validation Accuracy in 'XGB' = 0.9145833333333333\n"
          ],
          "name": "stdout"
        }
      ]
    },
    {
      "metadata": {
        "id": "mK_3SEIuf6X5",
        "colab_type": "code",
        "outputId": "133a59e6-6164-4351-e2a6-f842474f4988",
        "colab": {
          "base_uri": "https://localhost:8080/",
          "height": 34
        }
      },
      "cell_type": "code",
      "source": [
        "model14 = train_model(np.array(features_train_lda), train_y, model_name='KNN', validation=(features_val_lda, val_y))"
      ],
      "execution_count": 0,
      "outputs": [
        {
          "output_type": "stream",
          "text": [
            "Validation Accuracy in 'KNN' = 0.9141111111111111\n"
          ],
          "name": "stdout"
        }
      ]
    },
    {
      "metadata": {
        "id": "qiVHhFlOjame",
        "colab_type": "code",
        "colab": {}
      },
      "cell_type": "code",
      "source": [
        ""
      ],
      "execution_count": 0,
      "outputs": []
    },
    {
      "metadata": {
        "id": "A3EDfbxp5jGU",
        "colab_type": "code",
        "colab": {}
      },
      "cell_type": "code",
      "source": [
        "lda_features_val = load_feature(corpus+'/cache/lda_val_features.pkl')\n",
        "pca_features_val = load_feature(corpus+'/cache/pca_val_features.pkl')\n",
        "val_y1 = load_feature(corpus+'/cache/val_y.pkl')\n",
        "val_y = val_y1.reshape(-1)"
      ],
      "execution_count": 0,
      "outputs": []
    },
    {
      "metadata": {
        "id": "GdT9p2WMgWw2",
        "colab_type": "code",
        "colab": {}
      },
      "cell_type": "code",
      "source": [
        "lda_rf = load_model(corpus+'/models/lda_rf.pkl')\n",
        "lda_bag = load_model(corpus+'/models/lda_bag.pkl')\n",
        "lda_ada = load_model(corpus+'/models/lda_ada.pkl')\n",
        "lda_nb = load_model(corpus+'/models/lda_nb.pkl')\n",
        "lda_svm = load_model(corpus+'/models/lda_svm.pkl')\n",
        "lda_xgb = load_model(corpus+'/models/lda_xgb.pkl')\n",
        "lda_knn = load_model(corpus+'/models/lda_knn.pkl')"
      ],
      "execution_count": 0,
      "outputs": []
    },
    {
      "metadata": {
        "id": "nw411Rt78k2y",
        "colab_type": "code",
        "outputId": "8d8151c8-f272-4a85-ca3c-98dbbc18b75a",
        "colab": {
          "base_uri": "https://localhost:8080/",
          "height": 34
        }
      },
      "cell_type": "code",
      "source": [
        "map_lda_rf = map3(lda_rf, validation=(lda_features_val, val_y))\n",
        "map_lda_rf"
      ],
      "execution_count": 0,
      "outputs": [
        {
          "output_type": "execute_result",
          "data": {
            "text/plain": [
              "0.9249444444444337"
            ]
          },
          "metadata": {
            "tags": []
          },
          "execution_count": 65
        }
      ]
    },
    {
      "metadata": {
        "id": "kChlkxuLDv0R",
        "colab_type": "code",
        "outputId": "ab9f139b-0eb8-4876-c6b3-ebc8beca56eb",
        "colab": {
          "base_uri": "https://localhost:8080/",
          "height": 34
        }
      },
      "cell_type": "code",
      "source": [
        "map_lda_bag = map3(lda_bag, validation=(lda_features_val, val_y))\n",
        "map_lda_bag"
      ],
      "execution_count": 0,
      "outputs": [
        {
          "output_type": "execute_result",
          "data": {
            "text/plain": [
              "0.9290509259259181"
            ]
          },
          "metadata": {
            "tags": []
          },
          "execution_count": 66
        }
      ]
    },
    {
      "metadata": {
        "id": "G-3NmCEwDyzK",
        "colab_type": "code",
        "outputId": "c4ac478c-2e25-4aa3-b5fb-7df72e9ea90e",
        "colab": {
          "base_uri": "https://localhost:8080/",
          "height": 34
        }
      },
      "cell_type": "code",
      "source": [
        "map_lda_ada = map3(lda_ada, validation=(lda_features_val, val_y))\n",
        "map_lda_ada"
      ],
      "execution_count": 0,
      "outputs": [
        {
          "output_type": "execute_result",
          "data": {
            "text/plain": [
              "0.8951203703703584"
            ]
          },
          "metadata": {
            "tags": []
          },
          "execution_count": 67
        }
      ]
    },
    {
      "metadata": {
        "id": "Olf6xmLfD3-t",
        "colab_type": "code",
        "outputId": "d7133075-cc6c-4ad7-c8a9-285f82bddc9b",
        "colab": {
          "base_uri": "https://localhost:8080/",
          "height": 34
        }
      },
      "cell_type": "code",
      "source": [
        "map_lda_nb = map3(lda_nb, validation=(lda_features_val, val_y))\n",
        "map_lda_nb"
      ],
      "execution_count": 0,
      "outputs": [
        {
          "output_type": "execute_result",
          "data": {
            "text/plain": [
              "0.9196759259259168"
            ]
          },
          "metadata": {
            "tags": []
          },
          "execution_count": 68
        }
      ]
    },
    {
      "metadata": {
        "id": "m8lH-fY86HMp",
        "colab_type": "code",
        "outputId": "46129dd5-1d5b-486e-b6ec-c7dd2492dd21",
        "colab": {
          "base_uri": "https://localhost:8080/",
          "height": 34
        }
      },
      "cell_type": "code",
      "source": [
        "map_lda_xgb = map3(lda_xgb, validation=(lda_features_val, val_y))\n",
        "map_lda_xgb"
      ],
      "execution_count": 0,
      "outputs": [
        {
          "output_type": "execute_result",
          "data": {
            "text/plain": [
              "0.9419537037036987"
            ]
          },
          "metadata": {
            "tags": []
          },
          "execution_count": 69
        }
      ]
    },
    {
      "metadata": {
        "id": "iyhWNEPagWuu",
        "colab_type": "code",
        "outputId": "529a1dc8-9928-4a3e-d784-c97e981f2584",
        "colab": {
          "base_uri": "https://localhost:8080/",
          "height": 34
        }
      },
      "cell_type": "code",
      "source": [
        "map_lda_knn = map3(lda_knn, validation=(lda_features_val, val_y))\n",
        "map_lda_knn"
      ],
      "execution_count": 0,
      "outputs": [
        {
          "output_type": "execute_result",
          "data": {
            "text/plain": [
              "0.9347916666666635"
            ]
          },
          "metadata": {
            "tags": []
          },
          "execution_count": 70
        }
      ]
    },
    {
      "metadata": {
        "id": "Sd1EqwNt6HO4",
        "colab_type": "code",
        "colab": {}
      },
      "cell_type": "code",
      "source": [
        ""
      ],
      "execution_count": 0,
      "outputs": []
    },
    {
      "metadata": {
        "id": "LoFV6wHpHfS5",
        "colab_type": "code",
        "colab": {}
      },
      "cell_type": "code",
      "source": [
        "pca_rf = load_model(corpus+'/models/pca_rf.pkl')\n",
        "pca_bag = load_model(corpus+'/models/pca_bag.pkl')\n",
        "pca_ada = load_model(corpus+'/models/pca_ada.pkl')\n",
        "pca_nb = load_model(corpus+'/models/pca_nb.pkl')\n",
        "pca_svm = load_model(corpus+'/models/pca_svm.pkl')\n",
        "pca_xgb = load_model(corpus+'/models/pca_xgb.pkl')\n",
        "pca_knn = load_model(corpus+'/models/pca_knn.pkl')"
      ],
      "execution_count": 0,
      "outputs": []
    },
    {
      "metadata": {
        "id": "60mGPGCrHfVq",
        "colab_type": "code",
        "outputId": "390bb606-5553-4b44-e020-b9eeaac95c06",
        "colab": {
          "base_uri": "https://localhost:8080/",
          "height": 34
        }
      },
      "cell_type": "code",
      "source": [
        "map_pca_rf = map3(pca_rf, validation=(pca_features_val, val_y))\n",
        "map_pca_rf"
      ],
      "execution_count": 0,
      "outputs": [
        {
          "output_type": "execute_result",
          "data": {
            "text/plain": [
              "0.9049675925925794"
            ]
          },
          "metadata": {
            "tags": []
          },
          "execution_count": 74
        }
      ]
    },
    {
      "metadata": {
        "id": "WpT7OaQOIOyT",
        "colab_type": "code",
        "outputId": "92868539-6376-4696-ac98-50a24c04e887",
        "colab": {
          "base_uri": "https://localhost:8080/",
          "height": 34
        }
      },
      "cell_type": "code",
      "source": [
        "map_pca_bag = map3(pca_bag, validation=(pca_features_val, val_y))\n",
        "map_pca_bag"
      ],
      "execution_count": 0,
      "outputs": [
        {
          "output_type": "execute_result",
          "data": {
            "text/plain": [
              "0.9197962962962873"
            ]
          },
          "metadata": {
            "tags": []
          },
          "execution_count": 75
        }
      ]
    },
    {
      "metadata": {
        "id": "DJs8VmePIO2-",
        "colab_type": "code",
        "outputId": "f5ac4cb0-c0ac-4630-b4a0-816f1951077b",
        "colab": {
          "base_uri": "https://localhost:8080/",
          "height": 34
        }
      },
      "cell_type": "code",
      "source": [
        "map_pca_ada = map3(pca_ada, validation=(pca_features_val, val_y))\n",
        "map_pca_ada"
      ],
      "execution_count": 0,
      "outputs": [
        {
          "output_type": "execute_result",
          "data": {
            "text/plain": [
              "0.836268518518504"
            ]
          },
          "metadata": {
            "tags": []
          },
          "execution_count": 76
        }
      ]
    },
    {
      "metadata": {
        "id": "ZzLSa4hjIO7w",
        "colab_type": "code",
        "outputId": "dc068730-3057-4585-90aa-9c3de51221af",
        "colab": {
          "base_uri": "https://localhost:8080/",
          "height": 34
        }
      },
      "cell_type": "code",
      "source": [
        "map_pca_nb = map3(pca_nb, validation=(pca_features_val, val_y))\n",
        "map_pca_nb"
      ],
      "execution_count": 0,
      "outputs": [
        {
          "output_type": "execute_result",
          "data": {
            "text/plain": [
              "0.8162037037036739"
            ]
          },
          "metadata": {
            "tags": []
          },
          "execution_count": 77
        }
      ]
    },
    {
      "metadata": {
        "id": "htNBn_bAIPDy",
        "colab_type": "code",
        "outputId": "8f93e7b4-2ca9-4a8f-b7d5-72e2cf852733",
        "colab": {
          "base_uri": "https://localhost:8080/",
          "height": 34
        }
      },
      "cell_type": "code",
      "source": [
        "map_pca_xgb = map3(pca_xgb, validation=(pca_features_val, val_y))\n",
        "map_pca_xgb"
      ],
      "execution_count": 0,
      "outputs": [
        {
          "output_type": "execute_result",
          "data": {
            "text/plain": [
              "0.9381018518518447"
            ]
          },
          "metadata": {
            "tags": []
          },
          "execution_count": 78
        }
      ]
    },
    {
      "metadata": {
        "id": "rQtehJdUIiHw",
        "colab_type": "code",
        "outputId": "860a304a-aa83-47f9-d8b9-cb3b81330fcc",
        "colab": {
          "base_uri": "https://localhost:8080/",
          "height": 34
        }
      },
      "cell_type": "code",
      "source": [
        "map_pca_knn = map3(pca_knn, validation=(pca_features_val, val_y))\n",
        "map_pca_knn"
      ],
      "execution_count": 0,
      "outputs": [
        {
          "output_type": "execute_result",
          "data": {
            "text/plain": [
              "0.8965462962962895"
            ]
          },
          "metadata": {
            "tags": []
          },
          "execution_count": 79
        }
      ]
    },
    {
      "metadata": {
        "heading_collapsed": true,
        "hidden": true,
        "id": "hWl3PD3SD1nw",
        "colab_type": "text"
      },
      "cell_type": "markdown",
      "source": [
        "### CM"
      ]
    },
    {
      "metadata": {
        "hidden": true,
        "id": "Iha86NoCD1nw",
        "colab_type": "code",
        "colab": {}
      },
      "cell_type": "code",
      "source": [
        "y_hat1 = model13.predict(features_val_lda)"
      ],
      "execution_count": 0,
      "outputs": []
    },
    {
      "metadata": {
        "hidden": true,
        "id": "fTCeM2uhD1nw",
        "colab_type": "code",
        "colab": {}
      },
      "cell_type": "code",
      "source": [
        "cm1 = metrics.confusion_matrix(val_y, y_hat1)"
      ],
      "execution_count": 0,
      "outputs": []
    },
    {
      "metadata": {
        "id": "1ZpH3dnwcdUG",
        "colab_type": "code",
        "outputId": "ab279bc3-90d8-4e4a-bd95-8790133cd0c7",
        "colab": {
          "base_uri": "https://localhost:8080/",
          "height": 487
        }
      },
      "cell_type": "code",
      "source": [
        "confusion_mat(cm1, class_label, title='', filename='Confusion Matrix with XGB on LDA', path=corpus+'/output/')"
      ],
      "execution_count": 121,
      "outputs": [
        {
          "output_type": "display_data",
          "data": {
            "image/png": "[encoded data removed]",
            "text/plain": [
              "<Figure size 504x504 with 2 Axes>"
            ]
          },
          "metadata": {
            "tags": []
          }
        }
      ]
    },
    {
      "metadata": {
        "id": "zeJZ-Lo-gRF4",
        "colab_type": "code",
        "colab": {}
      },
      "cell_type": "code",
      "source": [
        "probs = model13.predict_proba(features_val_lda)\n",
        "cmcs = cmc_curve(probs, val_y, class_label)"
      ],
      "execution_count": 0,
      "outputs": []
    },
    {
      "metadata": {
        "id": "rKnFcYAChrXb",
        "colab_type": "code",
        "colab": {
          "base_uri": "https://localhost:8080/",
          "height": 51
        },
        "outputId": "7fdc31ee-2e49-446a-eccf-bdbfdc05bd17"
      },
      "cell_type": "code",
      "source": [
        "cmcs"
      ],
      "execution_count": 125,
      "outputs": [
        {
          "output_type": "execute_result",
          "data": {
            "text/plain": [
              "array([0.91458333, 0.95911111, 0.97458333, 0.98288889, 0.98794444,\n",
              "       0.99166667, 0.99483333, 0.99686111, 0.99872222, 1.        ])"
            ]
          },
          "metadata": {
            "tags": []
          },
          "execution_count": 125
        }
      ]
    },
    {
      "metadata": {
        "id": "1gaNk4uOhtoG",
        "colab_type": "code",
        "colab": {}
      },
      "cell_type": "code",
      "source": [
        ""
      ],
      "execution_count": 0,
      "outputs": []
    }
  ]
}