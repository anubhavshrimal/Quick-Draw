{
 "cells": [
  {
   "cell_type": "code",
   "execution_count": 1,
   "metadata": {
    "colab": {},
    "colab_type": "code",
    "id": "99RLec59lrfC"
   },
   "outputs": [],
   "source": [
    "dataset_path = 'quickdraw/'"
   ]
  },
  {
   "cell_type": "code",
   "execution_count": 2,
   "metadata": {
    "colab": {},
    "colab_type": "code",
    "id": "msUKv55oPkLu"
   },
   "outputs": [],
   "source": [
    "import os\n",
    "import numpy as np\n",
    "import matplotlib.pyplot as plt"
   ]
  },
  {
   "cell_type": "code",
   "execution_count": 3,
   "metadata": {
    "colab": {
     "base_uri": "https://localhost:8080/",
     "height": 408
    },
    "colab_type": "code",
    "id": "TH7lvnU3mOe9",
    "outputId": "02cebe52-7651-4173-eccd-df9be948e5f3",
    "scrolled": true
   },
   "outputs": [
    {
     "data": {
      "text/plain": [
       "['full_numpy_bitmap_crown.npy',\n",
       " 'full_numpy_bitmap_umbrella.npy',\n",
       " 'valid',\n",
       " 'full_numpy_bitmap_headphones.npy',\n",
       " 'full_numpy_bitmap_hat.npy',\n",
       " 'full_numpy_bitmap_bicycle.npy',\n",
       " 'test',\n",
       " 'full_numpy_bitmap_banana.npy',\n",
       " 'full_numpy_bitmap_knife.npy',\n",
       " 'full_numpy_bitmap_dumbbell.npy',\n",
       " 'full_numpy_bitmap_ice cream.npy',\n",
       " 'full_numpy_bitmap_fish.npy',\n",
       " 'full_numpy_bitmap_flower.npy',\n",
       " 'full_numpy_bitmap_shoe.npy',\n",
       " 'full_numpy_bitmap_candle.npy',\n",
       " 'full_numpy_bitmap_windmill.npy',\n",
       " 'full_numpy_bitmap_car.npy',\n",
       " 'full_numpy_bitmap_eye.npy',\n",
       " '.ipynb_checkpoints',\n",
       " 'full_numpy_bitmap_pants.npy',\n",
       " 'full_numpy_bitmap_alarm clock.npy',\n",
       " 'full_numpy_bitmap_baseball bat.npy',\n",
       " 'full_numpy_bitmap_airplane.npy',\n",
       " 'train']"
      ]
     },
     "execution_count": 3,
     "metadata": {},
     "output_type": "execute_result"
    }
   ],
   "source": [
    "os.listdir(dataset_path)"
   ]
  },
  {
   "cell_type": "code",
   "execution_count": 4,
   "metadata": {
    "colab": {
     "base_uri": "https://localhost:8080/",
     "height": 408
    },
    "colab_type": "code",
    "id": "2060LPvGqaMX",
    "outputId": "22eb0b86-36a5-410d-886e-9dab67387090",
    "scrolled": true
   },
   "outputs": [
    {
     "data": {
      "text/plain": [
       "['crown',\n",
       " 'umbrella',\n",
       " 'valid',\n",
       " 'headphones',\n",
       " 'hat',\n",
       " 'bicycle',\n",
       " 'test',\n",
       " 'banana',\n",
       " 'knife',\n",
       " 'dumbbell',\n",
       " 'ice cream',\n",
       " 'fish',\n",
       " 'flower',\n",
       " 'shoe',\n",
       " 'candle',\n",
       " 'windmill',\n",
       " 'car',\n",
       " 'eye',\n",
       " 'checkpoints',\n",
       " 'pants',\n",
       " 'alarm clock',\n",
       " 'baseball bat',\n",
       " 'airplane',\n",
       " 'train']"
      ]
     },
     "execution_count": 4,
     "metadata": {},
     "output_type": "execute_result"
    }
   ],
   "source": [
    "files = os.listdir(dataset_path)\n",
    "classes = [f.split('_')[-1].split('.')[0] for f in files]\n",
    "classes"
   ]
  },
  {
   "cell_type": "code",
   "execution_count": 5,
   "metadata": {
    "colab": {},
    "colab_type": "code",
    "id": "R75s3j0t3rXz"
   },
   "outputs": [],
   "source": [
    "os.makedirs(dataset_path + 'test/')\n",
    "os.makedirs(dataset_path + 'valid/')\n",
    "os.makedirs(dataset_path + 'train/')"
   ]
  },
  {
   "cell_type": "code",
   "execution_count": 5,
   "metadata": {
    "colab": {},
    "colab_type": "code",
    "id": "OhFOUVUb0nmI"
   },
   "outputs": [
    {
     "name": "stdout",
     "output_type": "stream",
     "text": [
      "full_numpy_bitmap_crown.npy\n",
      "full_numpy_bitmap_pants.npy\n"
     ]
    }
   ],
   "source": [
    "for f in files:\n",
    "    if f != 'full_numpy_bitmap_pants.npy' and f != 'full_numpy_bitmap_crown.npy':\n",
    "        continue\n",
    "    print(f)\n",
    "    dataset = np.load(dataset_path+f)\n",
    "    np.random.shuffle(dataset)\n",
    "    dataset = dataset[:35000]\n",
    "    test, val, train = np.split(dataset, [int(0.2*len(dataset)), int(0.44*len(dataset))])\n",
    "    np.save(dataset_path + 'test/' + f, test)\n",
    "    np.save(dataset_path + 'valid/' + f, val)\n",
    "    np.save(dataset_path + 'train/' + f, train)"
   ]
  },
  {
   "cell_type": "code",
   "execution_count": 9,
   "metadata": {
    "colab": {},
    "colab_type": "code",
    "id": "HzvlEW559T02"
   },
   "outputs": [],
   "source": [
    "et = np.load(dataset_path+'full_numpy_bitmap_pants.npy')"
   ]
  },
  {
   "cell_type": "code",
   "execution_count": 10,
   "metadata": {
    "colab": {
     "base_uri": "https://localhost:8080/",
     "height": 34
    },
    "colab_type": "code",
    "id": "o2cNU-nsY04U",
    "outputId": "0abbe41a-60a2-41c3-cc2f-faf6fec59961"
   },
   "outputs": [
    {
     "data": {
      "text/plain": [
       "(144264, 784)"
      ]
     },
     "execution_count": 10,
     "metadata": {},
     "output_type": "execute_result"
    }
   ],
   "source": [
    "et.shape"
   ]
  },
  {
   "cell_type": "code",
   "execution_count": 11,
   "metadata": {
    "colab": {
     "base_uri": "https://localhost:8080/",
     "height": 176
    },
    "colab_type": "code",
    "id": "lG3J4ur3Siv5",
    "outputId": "8683780e-de7c-49f2-a2aa-02589c8001b0"
   },
   "outputs": [
    {
     "data": {
      "text/plain": [
       "<matplotlib.image.AxesImage at 0x7ff963d07c88>"
      ]
     },
     "execution_count": 11,
     "metadata": {},
     "output_type": "execute_result"
    },
    {
     "data": {
      "image/png": "[encoded data removed]",
      "text/plain": [
       "<Figure size 144x144 with 1 Axes>"
      ]
     },
     "metadata": {
      "needs_background": "light"
     },
     "output_type": "display_data"
    }
   ],
   "source": [
    "plt.figure(figsize=(2,2))\n",
    "plt.imshow(et[3].reshape(28,28))"
   ]
  },
  {
   "cell_type": "code",
   "execution_count": 0,
   "metadata": {
    "colab": {},
    "colab_type": "code",
    "id": "21PAt-EQ64hC"
   },
   "outputs": [],
   "source": [
    " import os"
   ]
  },
  {
   "cell_type": "code",
   "execution_count": 0,
   "metadata": {
    "colab": {},
    "colab_type": "code",
    "id": "e2hp34fU653a"
   },
   "outputs": [],
   "source": [
    "data_dir = '/content/gdrive/My Drive/quickdraw/'"
   ]
  },
  {
   "cell_type": "code",
   "execution_count": 0,
   "metadata": {
    "colab": {},
    "colab_type": "code",
    "id": "T_STD9uA7Fi6"
   },
   "outputs": [],
   "source": [
    "data = 'tinyquickdraw/'"
   ]
  },
  {
   "cell_type": "code",
   "execution_count": 0,
   "metadata": {
    "colab": {},
    "colab_type": "code",
    "id": "hi2pJc3Z7MBk"
   },
   "outputs": [],
   "source": [
    "os.path.exists()\n",
    "os.mkdirs(os.path.join(data_dir, 'airplane'))"
   ]
  },
  {
   "cell_type": "code",
   "execution_count": 0,
   "metadata": {
    "colab": {},
    "colab_type": "code",
    "id": "5nc0xdNxlNQr"
   },
   "outputs": [],
   "source": []
  }
 ],
 "metadata": {
  "accelerator": "GPU",
  "colab": {
   "collapsed_sections": [],
   "name": "CV_MidTerm_Quickdraw.ipynb",
   "provenance": [],
   "version": "0.3.2"
  },
  "kernelspec": {
   "display_name": "Python 3",
   "language": "python",
   "name": "python3"
  },
  "language_info": {
   "codemirror_mode": {
    "name": "ipython",
    "version": 3
   },
   "file_extension": ".py",
   "mimetype": "text/x-python",
   "name": "python",
   "nbconvert_exporter": "python",
   "pygments_lexer": "ipython3",
   "version": "3.7.1"
  }
 },
 "nbformat": 4,
 "nbformat_minor": 1
}
