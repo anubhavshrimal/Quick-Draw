{
  "nbformat": 4,
  "nbformat_minor": 0,
  "metadata": {
    "colab": {
      "name": "QuickDraw_Recognition-small_data.ipynb",
      "version": "0.3.2",
      "provenance": [],
      "collapsed_sections": []
    },
    "language_info": {
      "codemirror_mode": {
        "name": "ipython",
        "version": 3
      },
      "file_extension": ".py",
      "mimetype": "text/x-python",
      "name": "python",
      "nbconvert_exporter": "python",
      "pygments_lexer": "ipython3",
      "version": "3.7.1"
    },
    "kernelspec": {
      "display_name": "Python 3",
      "language": "python",
      "name": "python3"
    },
    "accelerator": "GPU"
  },
  "cells": [
    {
      "metadata": {
        "id": "7aeEoQtEhIvq",
        "colab_type": "code",
        "outputId": "7d9f4959-999d-401d-cf5f-11ba111c6349",
        "colab": {
          "base_uri": "https://localhost:8080/",
          "height": 122
        }
      },
      "cell_type": "code",
      "source": [
        "from google.colab import drive\n",
        "drive.mount('/content/gdrive')"
      ],
      "execution_count": 1,
      "outputs": [
        {
          "output_type": "stream",
          "text": [
            "Go to this URL in a browser: https://accounts.google.com/o/oauth2/auth?client_id=947318989803-6bn6qk8qdgf4n4g3pfee6491hc0brc4i.apps.googleusercontent.com&redirect_uri=urn%3Aietf%3Awg%3Aoauth%3A2.0%3Aoob&scope=email%20https%3A%2F%2Fwww.googleapis.com%2Fauth%2Fdocs.test%20https%3A%2F%2Fwww.googleapis.com%2Fauth%2Fdrive%20https%3A%2F%2Fwww.googleapis.com%2Fauth%2Fdrive.photos.readonly%20https%3A%2F%2Fwww.googleapis.com%2Fauth%2Fpeopleapi.readonly&response_type=code\n",
            "\n",
            "Enter your authorization code:\n",
            "··········\n",
            "Mounted at /content/gdrive\n"
          ],
          "name": "stdout"
        }
      ]
    },
    {
      "metadata": {
        "id": "n1PCzGsghPCD",
        "colab_type": "code",
        "colab": {}
      },
      "cell_type": "code",
      "source": [
        "dataset_path = '/content/gdrive/My Drive/quickdraw_small/'"
      ],
      "execution_count": 0,
      "outputs": []
    },
    {
      "metadata": {
        "colab_type": "code",
        "id": "YhLUrbsy_L7c",
        "colab": {}
      },
      "cell_type": "code",
      "source": [
        "%reload_ext autoreload\n",
        "%autoreload 2\n",
        "%matplotlib inline"
      ],
      "execution_count": 0,
      "outputs": []
    },
    {
      "metadata": {
        "colab_type": "code",
        "id": "0CCtvCAv8gts",
        "colab": {}
      },
      "cell_type": "code",
      "source": [
        "import numpy as np\n",
        "import matplotlib.pyplot as plt\n",
        "from PIL import Image\n",
        "import os\n",
        "\n",
        "import torch\n",
        "from torch import nn, optim\n",
        "from torchvision import transforms, datasets"
      ],
      "execution_count": 0,
      "outputs": []
    },
    {
      "metadata": {
        "id": "6K1FCqzahHMP",
        "colab_type": "code",
        "colab": {}
      },
      "cell_type": "code",
      "source": [
        "from my_ml_lib import MetricTools, PlotTools"
      ],
      "execution_count": 0,
      "outputs": []
    },
    {
      "metadata": {
        "colab_type": "code",
        "id": "rwWVAKjnTNNv",
        "outputId": "7c8f9fb5-699d-4437-825c-62a6907adf53",
        "colab": {
          "base_uri": "https://localhost:8080/",
          "height": 34
        }
      },
      "cell_type": "code",
      "source": [
        "device = torch.device(\"cuda:0\" if torch.cuda.is_available() else \"cpu\")\n",
        "device"
      ],
      "execution_count": 7,
      "outputs": [
        {
          "output_type": "execute_result",
          "data": {
            "text/plain": [
              "device(type='cuda', index=0)"
            ]
          },
          "metadata": {
            "tags": []
          },
          "execution_count": 7
        }
      ]
    },
    {
      "metadata": {
        "colab_type": "code",
        "id": "CiiEfPGB_d7K",
        "colab": {}
      },
      "cell_type": "code",
      "source": [
        "data_dirs = {\n",
        "    'train': dataset_path+'train/',\n",
        "    'valid': dataset_path+'valid/',\n",
        "    'test': dataset_path+'test/',\n",
        "}"
      ],
      "execution_count": 0,
      "outputs": []
    },
    {
      "metadata": {
        "id": "QVkxEEhRhHMe",
        "colab_type": "code",
        "colab": {}
      },
      "cell_type": "code",
      "source": [
        "for d in ['train', 'valid', 'test']:\n",
        "    os.rmdir(data_dirs[d] + '.ipynb_checkpoints') "
      ],
      "execution_count": 0,
      "outputs": []
    },
    {
      "metadata": {
        "scrolled": true,
        "id": "HBfay6TMhHMg",
        "colab_type": "code",
        "outputId": "14f4fdf0-979b-4fd2-99f3-fff82423a642",
        "colab": {
          "base_uri": "https://localhost:8080/",
          "height": 374
        }
      },
      "cell_type": "code",
      "source": [
        "files = os.listdir(data_dirs['train'])\n",
        "files = files[:10]\n",
        "idx_to_class = sorted([f.split('_')[-1].split('.')[0] for f in files])\n",
        "\n",
        "class_to_idx = {idx_to_class[i]: i for i in range(len(idx_to_class))}\n",
        "\n",
        "len(idx_to_class), class_to_idx, idx_to_class"
      ],
      "execution_count": 9,
      "outputs": [
        {
          "output_type": "execute_result",
          "data": {
            "text/plain": [
              "(10,\n",
              " {'airplane': 0,\n",
              "  'alarm clock': 1,\n",
              "  'banana': 2,\n",
              "  'baseball bat': 3,\n",
              "  'bicycle': 4,\n",
              "  'car': 5,\n",
              "  'crown': 6,\n",
              "  'fish': 7,\n",
              "  'headphones': 8,\n",
              "  'pants': 9},\n",
              " ['airplane',\n",
              "  'alarm clock',\n",
              "  'banana',\n",
              "  'baseball bat',\n",
              "  'bicycle',\n",
              "  'car',\n",
              "  'crown',\n",
              "  'fish',\n",
              "  'headphones',\n",
              "  'pants'])"
            ]
          },
          "metadata": {
            "tags": []
          },
          "execution_count": 9
        }
      ]
    },
    {
      "metadata": {
        "colab_type": "code",
        "id": "K83Yo1D2_3Yn",
        "colab": {}
      },
      "cell_type": "code",
      "source": [
        "data_transforms = {\n",
        "    'train':transforms.Compose([\n",
        "            transforms.RandomRotation(10),\n",
        "            transforms.ToTensor(),\n",
        "#             transforms.Normalize([0.155], [0.316])\n",
        "        ]),\n",
        "    'valid':transforms.Compose([\n",
        "            transforms.ToTensor(),\n",
        "#             transforms.Normalize([0.155], [0.316])\n",
        "        ]),\n",
        "    'test':transforms.Compose([\n",
        "            transforms.ToTensor(),\n",
        "#             transforms.Normalize([0.155], [0.316])\n",
        "        ])\n",
        "}"
      ],
      "execution_count": 0,
      "outputs": []
    },
    {
      "metadata": {
        "id": "DqIRZhg4hHMo",
        "colab_type": "code",
        "colab": {}
      },
      "cell_type": "code",
      "source": [
        "dataset = {}\n",
        "# mean, std = None, None\n",
        "\n",
        "for d in ['train', 'valid', 'test']:\n",
        "    data_x = []\n",
        "    data_y = []\n",
        "    for path, _, _temp in os.walk(data_dirs[d]):\n",
        "        for f in files:\n",
        "            c = f.split('_')[-1].split('.')[0] # get class name from file name\n",
        "            x = np.load(path + f).reshape(-1, 28, 28) / 255\n",
        "            y = np.ones((len(x), 1), dtype=np.int64) * class_to_idx[c]\n",
        "            \n",
        "            data_x.extend(x)\n",
        "            data_y.extend(y)\n",
        "#     if d == 'train':\n",
        "#         mean = np.mean(data_x)\n",
        "#         std = np.std(data_x)\n",
        "    dataset[d] = torch.utils.data.TensorDataset(torch.stack([data_transforms[d](Image.fromarray(np.uint8(i*255))) for i in data_x]), \n",
        "                                                torch.stack([torch.Tensor(j) for j in data_y]))\n"
      ],
      "execution_count": 0,
      "outputs": []
    },
    {
      "metadata": {
        "id": "_omZ50EuhHMr",
        "colab_type": "code",
        "outputId": "b06e61f2-4c01-40f3-e8a1-3becfe4f5325",
        "colab": {
          "base_uri": "https://localhost:8080/",
          "height": 34
        }
      },
      "cell_type": "code",
      "source": [
        "[len(dataset[d]) for d in ['train', 'valid', 'test']]"
      ],
      "execution_count": 12,
      "outputs": [
        {
          "output_type": "execute_result",
          "data": {
            "text/plain": [
              "[84000, 36000, 30000]"
            ]
          },
          "metadata": {
            "tags": []
          },
          "execution_count": 12
        }
      ]
    },
    {
      "metadata": {
        "id": "jgKksvPyhHMw",
        "colab_type": "code",
        "colab": {}
      },
      "cell_type": "code",
      "source": [
        "bs = 128 # batch size"
      ],
      "execution_count": 0,
      "outputs": []
    },
    {
      "metadata": {
        "id": "LYTWu6yyhHMy",
        "colab_type": "code",
        "colab": {}
      },
      "cell_type": "code",
      "source": [
        "dataloaders = {\n",
        "    d: torch.utils.data.DataLoader(dataset[d], batch_size=bs, shuffle=True) for d in ['train', \n",
        "                                                                                      'valid', \n",
        "                                                                                      'test']\n",
        "}"
      ],
      "execution_count": 0,
      "outputs": []
    },
    {
      "metadata": {
        "colab_type": "code",
        "id": "nLIBfFgZMYcC",
        "colab": {}
      },
      "cell_type": "code",
      "source": [
        "invTrans = transforms.Compose([ transforms.Normalize([0.],[1/0.316]),\n",
        "                                transforms.Normalize([-0.155],[1.]),\n",
        "                               ])\n",
        "\n",
        "def imshow(img):\n",
        "#     img = invTrans(img)\n",
        "#     img = img.numpy()\n",
        "    plt.imshow(img.reshape(28,28), cmap='gray')"
      ],
      "execution_count": 0,
      "outputs": []
    },
    {
      "metadata": {
        "colab_type": "code",
        "id": "5n_S8EUaQD3T",
        "outputId": "84d52753-56fa-4111-9f47-89251b46f58d",
        "colab": {
          "base_uri": "https://localhost:8080/",
          "height": 213
        }
      },
      "cell_type": "code",
      "source": [
        "dataiter = iter(dataloaders['train'])\n",
        "images, labels = dataiter.next()\n",
        "\n",
        "fig = plt.figure(figsize=(8, 3))\n",
        "# display 9 images\n",
        "for cls in np.arange(10):\n",
        "    ax = fig.add_subplot(2, 5, cls+1, xticks=[], yticks=[])\n",
        "    \n",
        "    image = images.numpy()[labels.numpy().reshape(-1) == cls][0]\n",
        "    label = labels.numpy()[labels.numpy().reshape(-1) == cls][0, 0].astype(np.int64)\n",
        "    imshow(image)\n",
        "    ax.set_title(idx_to_class[label])\n",
        "plt.savefig('data_vis_small.png')"
      ],
      "execution_count": 0,
      "outputs": [
        {
          "output_type": "display_data",
          "data": {
            "image/png": "[encoded data removed]",
            "text/plain": [
              "<Figure size 576x216 with 10 Axes>"
            ]
          },
          "metadata": {
            "tags": []
          }
        }
      ]
    },
    {
      "metadata": {
        "colab_type": "code",
        "id": "J0yiBCFZQWU5",
        "outputId": "5393f160-69c0-488a-90cc-8a7e56b59dfd",
        "colab": {
          "base_uri": "https://localhost:8080/",
          "height": 391
        }
      },
      "cell_type": "code",
      "source": [
        "# define the CNN architecture\n",
        "class Net(nn.Module):\n",
        "    def __init__(self):\n",
        "        super(Net, self).__init__()\n",
        "        \n",
        "        self.layer1 = nn.Sequential(\n",
        "            nn.Conv2d(1, 5, kernel_size=3, padding=1),\n",
        "            nn.ReLU(),\n",
        "            nn.Conv2d(5, 5, kernel_size=3, padding=1),\n",
        "            nn.ReLU(),\n",
        "            nn.MaxPool2d(2), # 14x14x5\n",
        "            nn.Conv2d(5, 8, kernel_size=3, padding=1),\n",
        "            nn.ReLU(),\n",
        "            nn.Conv2d(8, 8, kernel_size=3, padding=1),\n",
        "            nn.ReLU(),\n",
        "            nn.MaxPool2d(2), # 7x7x8\n",
        "            nn.Conv2d(8, 16, kernel_size=3, padding=1),\n",
        "            nn.ReLU() # 7x7x16\n",
        "        )\n",
        "        self.fc = nn.Sequential(\n",
        "            nn.Linear(7*7*16, 100),\n",
        "            nn.ReLU(),\n",
        "            nn.Dropout(p=0.2),\n",
        "            nn.Linear(100, 10)\n",
        "        )\n",
        "    \n",
        "    def forward(self, x):\n",
        "        out = self.layer1(x)\n",
        "        out = out.view(out.shape[0], -1)\n",
        "        out = self.fc(out)\n",
        "        return out\n",
        "\n",
        "\n",
        "model_scratch = Net()\n",
        "model_scratch.to(device)"
      ],
      "execution_count": 37,
      "outputs": [
        {
          "output_type": "execute_result",
          "data": {
            "text/plain": [
              "Net(\n",
              "  (layer1): Sequential(\n",
              "    (0): Conv2d(1, 5, kernel_size=(3, 3), stride=(1, 1), padding=(1, 1))\n",
              "    (1): ReLU()\n",
              "    (2): Conv2d(5, 5, kernel_size=(3, 3), stride=(1, 1), padding=(1, 1))\n",
              "    (3): ReLU()\n",
              "    (4): MaxPool2d(kernel_size=2, stride=2, padding=0, dilation=1, ceil_mode=False)\n",
              "    (5): Conv2d(5, 8, kernel_size=(3, 3), stride=(1, 1), padding=(1, 1))\n",
              "    (6): ReLU()\n",
              "    (7): Conv2d(8, 8, kernel_size=(3, 3), stride=(1, 1), padding=(1, 1))\n",
              "    (8): ReLU()\n",
              "    (9): MaxPool2d(kernel_size=2, stride=2, padding=0, dilation=1, ceil_mode=False)\n",
              "    (10): Conv2d(8, 16, kernel_size=(3, 3), stride=(1, 1), padding=(1, 1))\n",
              "    (11): ReLU()\n",
              "  )\n",
              "  (fc): Sequential(\n",
              "    (0): Linear(in_features=784, out_features=100, bias=True)\n",
              "    (1): ReLU()\n",
              "    (2): Dropout(p=0.2)\n",
              "    (3): Linear(in_features=100, out_features=10, bias=True)\n",
              "  )\n",
              ")"
            ]
          },
          "metadata": {
            "tags": []
          },
          "execution_count": 37
        }
      ]
    },
    {
      "metadata": {
        "colab_type": "code",
        "id": "Ro8Eu6QIUUNP",
        "colab": {}
      },
      "cell_type": "code",
      "source": [
        "criterion_scratch = nn.CrossEntropyLoss()\n",
        "\n",
        "# optimizer_scratch = optim.SGD(model_scratch.parameters(), lr=0.001, momentum=0.9)\n",
        "optimizer_scratch = optim.Adam(model_scratch.parameters(), lr=0.001)"
      ],
      "execution_count": 0,
      "outputs": []
    },
    {
      "metadata": {
        "colab_type": "code",
        "id": "2RoFcWVwTYvt",
        "colab": {}
      },
      "cell_type": "code",
      "source": [
        "def train(n_epochs, loaders, model, optimizer, criterion, device, save_path):\n",
        "    \"\"\"returns trained model\"\"\"\n",
        "    # initialize tracker for minimum validation loss\n",
        "    valid_loss_min = np.Inf \n",
        "    train_losses = []\n",
        "    val_losses = []\n",
        "    \n",
        "    for epoch in range(1, n_epochs+1):\n",
        "        # initialize variables to monitor training and validation loss\n",
        "        train_loss = 0.0\n",
        "        valid_loss = 0.0\n",
        "        \n",
        "        ###################\n",
        "        # train the model #\n",
        "        ###################\n",
        "        model.train()\n",
        "        for batch_idx, (data, target) in enumerate(loaders['train']):\n",
        "            # move to GPU or CPU\n",
        "#             print(torch.max(target,1)[0])\n",
        "            data, target = data.to(device), target.long().to(device)\n",
        "            \n",
        "            ## find the loss and update the model parameters accordingly\n",
        "            ## record the average training loss as follows\n",
        "            ## train_loss = train_loss + ((1 / (batch_idx + 1)) * (loss.data - train_loss))\n",
        "            optimizer.zero_grad()\n",
        "            output = model(data)\n",
        "            loss = criterion(output, torch.max(target,1)[0])\n",
        "            \n",
        "            loss.backward()\n",
        "            optimizer.step()\n",
        "            \n",
        "            train_loss += ((1 / (batch_idx + 1)) * (loss.data - train_loss))\n",
        "            \n",
        "        ######################    \n",
        "        # validate the model #\n",
        "        ######################\n",
        "        model.eval()\n",
        "        for batch_idx, (data, target) in enumerate(loaders['valid']):\n",
        "            # move to GPU or CPU\n",
        "            data, target = data.to(device), target.long().to(device)\n",
        "            \n",
        "            ## update the average validation loss\n",
        "            output = model(data)\n",
        "            loss = criterion(output, torch.max(target,1)[0])\n",
        "            \n",
        "            valid_loss += ((1 / (batch_idx + 1)) * (loss.data - valid_loss))\n",
        "            \n",
        "        # print training/validation statistics \n",
        "        print('Epoch: {} \\tTraining Loss: {:.6f} \\tValidation Loss: {:.6f}'.format(\n",
        "            epoch, \n",
        "            train_loss,\n",
        "            valid_loss\n",
        "            ))\n",
        "        \n",
        "        train_losses.append(train_loss)\n",
        "        val_losses.append(valid_loss)\n",
        "        \n",
        "        if valid_loss < valid_loss_min:\n",
        "            print('Saving model..')\n",
        "            valid_loss_min = valid_loss\n",
        "            torch.save(model.state_dict(), save_path)\n",
        "    \n",
        "    # return trained model\n",
        "    return model, train_losses, val_losses"
      ],
      "execution_count": 0,
      "outputs": []
    },
    {
      "metadata": {
        "colab_type": "code",
        "id": "ToF8RLJtU_LP",
        "outputId": "455a9f9e-627b-4ccb-bd7c-19165712c301",
        "scrolled": true,
        "colab": {
          "base_uri": "https://localhost:8080/",
          "height": 646
        }
      },
      "cell_type": "code",
      "source": [
        "# train the model\n",
        "model_scratch, train_losses, val_losses = train(25, dataloaders, model_scratch, optimizer_scratch, \n",
        "                                                criterion_scratch, device, 'model_scratch-25epochs-small.pt')"
      ],
      "execution_count": 40,
      "outputs": [
        {
          "output_type": "stream",
          "text": [
            "Epoch: 1 \tTraining Loss: 0.888627 \tValidation Loss: 0.442564\n",
            "Saving model..\n",
            "Epoch: 2 \tTraining Loss: 0.480836 \tValidation Loss: 0.331642\n",
            "Saving model..\n",
            "Epoch: 3 \tTraining Loss: 0.383856 \tValidation Loss: 0.278752\n",
            "Saving model..\n",
            "Epoch: 4 \tTraining Loss: 0.326465 \tValidation Loss: 0.253496\n",
            "Saving model..\n",
            "Epoch: 5 \tTraining Loss: 0.288928 \tValidation Loss: 0.236648\n",
            "Saving model..\n",
            "Epoch: 6 \tTraining Loss: 0.263565 \tValidation Loss: 0.228176\n",
            "Saving model..\n",
            "Epoch: 7 \tTraining Loss: 0.246785 \tValidation Loss: 0.215645\n",
            "Saving model..\n",
            "Epoch: 8 \tTraining Loss: 0.235600 \tValidation Loss: 0.212701\n",
            "Saving model..\n",
            "Epoch: 9 \tTraining Loss: 0.223981 \tValidation Loss: 0.205885\n",
            "Saving model..\n",
            "Epoch: 10 \tTraining Loss: 0.216250 \tValidation Loss: 0.207738\n",
            "Epoch: 11 \tTraining Loss: 0.208286 \tValidation Loss: 0.200292\n",
            "Saving model..\n",
            "Epoch: 12 \tTraining Loss: 0.198608 \tValidation Loss: 0.205331\n",
            "Epoch: 13 \tTraining Loss: 0.194282 \tValidation Loss: 0.205973\n",
            "Epoch: 14 \tTraining Loss: 0.188328 \tValidation Loss: 0.199760\n",
            "Saving model..\n",
            "Epoch: 15 \tTraining Loss: 0.182125 \tValidation Loss: 0.198810\n",
            "Saving model..\n",
            "Epoch: 16 \tTraining Loss: 0.178107 \tValidation Loss: 0.199221\n",
            "Epoch: 17 \tTraining Loss: 0.172410 \tValidation Loss: 0.206759\n",
            "Epoch: 18 \tTraining Loss: 0.168530 \tValidation Loss: 0.210828\n",
            "Epoch: 19 \tTraining Loss: 0.166675 \tValidation Loss: 0.205812\n",
            "Epoch: 20 \tTraining Loss: 0.159625 \tValidation Loss: 0.208815\n",
            "Epoch: 21 \tTraining Loss: 0.157984 \tValidation Loss: 0.214351\n",
            "Epoch: 22 \tTraining Loss: 0.153650 \tValidation Loss: 0.213153\n",
            "Epoch: 23 \tTraining Loss: 0.149516 \tValidation Loss: 0.216772\n",
            "Epoch: 24 \tTraining Loss: 0.146618 \tValidation Loss: 0.204432\n",
            "Epoch: 25 \tTraining Loss: 0.143968 \tValidation Loss: 0.221465\n"
          ],
          "name": "stdout"
        }
      ]
    },
    {
      "metadata": {
        "id": "tplg8-eUhHNQ",
        "colab_type": "code",
        "outputId": "100804e9-2f9f-41b8-9cf4-cef2edfc5d43",
        "colab": {
          "base_uri": "https://localhost:8080/",
          "height": 283
        }
      },
      "cell_type": "code",
      "source": [
        "plt.plot(train_losses, label='Training loss')\n",
        "plt.plot(val_losses, label='Validation loss')\n",
        "plt.xticks([i for i in range(0, len(train_losses), 5)].append(len(train_losses)))\n",
        "plt.xlabel('Epochs')\n",
        "plt.ylabel('Loss')\n",
        "plt.legend()\n",
        "_ = plt.ylim()\n",
        "# plt.title('Training Validation Loss with CNN from scratch')\n",
        "# plt.savefig('Training Validation Loss with CNN from scratch-25epochs-small.png')\n",
        "plt.show()"
      ],
      "execution_count": 41,
      "outputs": [
        {
          "output_type": "display_data",
          "data": {
            "image/png": "[encoded data removed]",
            "text/plain": [
              "<Figure size 432x288 with 1 Axes>"
            ]
          },
          "metadata": {
            "tags": []
          }
        }
      ]
    },
    {
      "metadata": {
        "colab_type": "code",
        "id": "e_whUDl2VuOi",
        "colab": {}
      },
      "cell_type": "code",
      "source": [
        "# load the model that got the best validation accuracy\n",
        "model_scratch.load_state_dict(torch.load('model_scratch-25epochs-small.pt'))"
      ],
      "execution_count": 0,
      "outputs": []
    },
    {
      "metadata": {
        "id": "lxCSa_lhhHNY",
        "colab_type": "code",
        "colab": {}
      },
      "cell_type": "code",
      "source": [
        "def mapk(target, output, k=3):\n",
        "    map_sum = 0\n",
        "    output = torch.topk(output, k)[1]\n",
        "    for i, t in enumerate(target):\n",
        "        idx = (output[i] == t).nonzero().cpu().numpy()\n",
        "        if len(idx) == 0:\n",
        "            continue\n",
        "            \n",
        "        idx = idx[0][0]\n",
        "        map_sum += 1 / (idx + 1)\n",
        "        \n",
        "    return map_sum"
      ],
      "execution_count": 0,
      "outputs": []
    },
    {
      "metadata": {
        "colab_type": "code",
        "id": "b66HUWouVydb",
        "colab": {}
      },
      "cell_type": "code",
      "source": [
        "def test(loaders, model, criterion, device):\n",
        "    sigmoid = lambda x: 1 / (1 + np.exp(-x))\n",
        "    \n",
        "    # monitor test loss and accuracy\n",
        "    test_loss = 0.\n",
        "    correct = 0.\n",
        "    total = 0.\n",
        "    y = None\n",
        "    y_hat = None\n",
        "    total_mapk = 0\n",
        "    \n",
        "    model.eval()\n",
        "    for batch_idx, (data, target) in enumerate(loaders['test']):\n",
        "        # move to GPU or CPU\n",
        "        data, target = data.to(device), target.long().to(device)\n",
        "        \n",
        "        # forward pass: compute predicted outputs by passing inputs to the model\n",
        "        output = model(data)\n",
        "        # calculate the loss\n",
        "        loss = criterion(output, target.view(-1))\n",
        "        # update average test loss \n",
        "        test_loss = test_loss + ((1 / (batch_idx + 1)) * (loss.data - test_loss))\n",
        "        # convert output probabilities to predicted class\n",
        "        pred = output.data.max(1, keepdim=True)[1]\n",
        "        \n",
        "        if y is None:\n",
        "            y = target.cpu().numpy()\n",
        "            y_hat = pred.data.cpu().view_as(target).numpy()\n",
        "            probs = output.data.cpu().numpy()\n",
        "        else:\n",
        "            y = np.append(y, target.cpu().numpy())\n",
        "            y_hat = np.append(y_hat, pred.data.cpu().view_as(target).numpy())\n",
        "            probs = np.vstack([probs, output.data.cpu().numpy()])\n",
        "            \n",
        "        total_mapk += mapk(target, output)\n",
        "        \n",
        "        # compare predictions to true label\n",
        "        correct += np.sum(np.squeeze(pred.eq(target.data.view_as(pred))).cpu().numpy())\n",
        "        total += data.size(0)\n",
        "            \n",
        "    print('Test Loss: {:.6f}\\n'.format(test_loss))\n",
        "\n",
        "    print('\\nTest Accuracy: %2d%% (%2d/%2d)' % (\n",
        "        100. * correct / total, correct, total))\n",
        "    \n",
        "    map3 = np.around(total_mapk / len(loaders[\"test\"].dataset) * 100, 2)\n",
        "    print(f'\\nMean Average Precision @ 3: {map3}%')\n",
        "          \n",
        "    return y, y_hat, probs"
      ],
      "execution_count": 0,
      "outputs": []
    },
    {
      "metadata": {
        "colab_type": "code",
        "id": "xjPJHHFhn-tT",
        "outputId": "ec1455e1-2149-4b89-f2c1-bdad69202c06",
        "colab": {
          "base_uri": "https://localhost:8080/",
          "height": 119
        }
      },
      "cell_type": "code",
      "source": [
        "# call test function    \n",
        "y, y_hat, probs = test(dataloaders, model_scratch, criterion_scratch, device)"
      ],
      "execution_count": 45,
      "outputs": [
        {
          "output_type": "stream",
          "text": [
            "Test Loss: 0.200899\n",
            "\n",
            "\n",
            "Test Accuracy: 94% (28348/30000)\n",
            "\n",
            "Mean Average Precision @ 3: 95.99%\n"
          ],
          "name": "stdout"
        }
      ]
    },
    {
      "metadata": {
        "id": "r22qqjzwboNb",
        "colab_type": "code",
        "colab": {}
      },
      "cell_type": "code",
      "source": [
        "def cmc_curve(probs, y, idx_to_class):\n",
        "    counts = np.zeros(len(idx_to_class))\n",
        "    \n",
        "    indices = np.argsort(probs * -1)\n",
        "    for i in range(y.shape[0]):\n",
        "        actual = y[i]\n",
        "        rank = 1\n",
        "        for pred in indices[i]:\n",
        "            if pred == actual:\n",
        "                break\n",
        "            rank += 1\n",
        "        \n",
        "        counts[rank - 1] += 1\n",
        "    \n",
        "    ranks = np.zeros(len(idx_to_class))\n",
        "    ranks[0] = counts[0]\n",
        "    for i in range(1, len(idx_to_class)):\n",
        "        ranks[i] = ranks[i-1] + counts[i]\n",
        "\n",
        "    return ranks / y.shape[0]"
      ],
      "execution_count": 0,
      "outputs": []
    },
    {
      "metadata": {
        "id": "yNwc3R1pZI7O",
        "colab_type": "code",
        "colab": {}
      },
      "cell_type": "code",
      "source": [
        "cmcs = cmc_curve(probs, y, idx_to_class)"
      ],
      "execution_count": 0,
      "outputs": []
    },
    {
      "metadata": {
        "id": "BHARRPMdiNR2",
        "colab_type": "code",
        "colab": {}
      },
      "cell_type": "code",
      "source": [
        "cmcs_lda_3 = [0.91458333, 0.95911111, 0.97458333, 0.98288889, 0.98794444, 0.99166667,\n",
        " 0.99483333, 0.99686111, 0.99872222, 1.]"
      ],
      "execution_count": 0,
      "outputs": []
    },
    {
      "metadata": {
        "id": "cIAtzzSecyVT",
        "colab_type": "code",
        "colab": {
          "base_uri": "https://localhost:8080/",
          "height": 295
        },
        "outputId": "95e94ed4-beae-43d7-fa8a-7cda7936ae16"
      },
      "cell_type": "code",
      "source": [
        "plt.plot([i for i in range(1,11)], cmcs_lda_3, 'bo-', label='XGB-LDA', c='r')\n",
        "plt.plot([i for i in range(1,11)], cmcs, 'bo-', label='CNN')\n",
        "plt.locator_params(axis='x', nbins=10)\n",
        "plt.xlabel('Rank')\n",
        "plt.ylabel('Identification Accuracy')\n",
        "plt.title('CMC Curve')\n",
        "plt.legend()\n",
        "plt.savefig('cmc_small.png')\n",
        "plt.show()"
      ],
      "execution_count": 68,
      "outputs": [
        {
          "output_type": "display_data",
          "data": {
            "image/png": "[encoded data removed]",
            "text/plain": [
              "<Figure size 432x288 with 1 Axes>"
            ]
          },
          "metadata": {
            "tags": []
          }
        }
      ]
    },
    {
      "metadata": {
        "id": "_n8UDpgchHNr",
        "colab_type": "code",
        "outputId": "dad6aafe-2243-4f33-d2d0-a42f3b4d03de",
        "colab": {
          "base_uri": "https://localhost:8080/",
          "height": 34
        }
      },
      "cell_type": "code",
      "source": [
        "MetricTools.accuracy(y, y_hat)"
      ],
      "execution_count": 60,
      "outputs": [
        {
          "output_type": "execute_result",
          "data": {
            "text/plain": [
              "0.9449333333333333"
            ]
          },
          "metadata": {
            "tags": []
          },
          "execution_count": 60
        }
      ]
    },
    {
      "metadata": {
        "colab_type": "code",
        "id": "4Uq50WGDgFCy",
        "colab": {}
      },
      "cell_type": "code",
      "source": [
        "cm = MetricTools.confusion_matrix(y, y_hat, nclasses=len(idx_to_class))"
      ],
      "execution_count": 0,
      "outputs": []
    },
    {
      "metadata": {
        "colab_type": "code",
        "id": "34ioObSMqD-3",
        "outputId": "64a0129f-9086-4aad-c781-dbd63c948e20",
        "scrolled": true,
        "colab": {
          "base_uri": "https://localhost:8080/",
          "height": 487
        }
      },
      "cell_type": "code",
      "source": [
        "PlotTools.confusion_matrix(cm, idx_to_class, title='',\n",
        "                           filename='Confusion Matrix with CNN from scratch-25-small', figsize=(7,7), path='./')"
      ],
      "execution_count": 62,
      "outputs": [
        {
          "output_type": "display_data",
          "data": {
            "image/png": "[encoded data removed]",
            "text/plain": [
              "<Figure size 504x504 with 2 Axes>"
            ]
          },
          "metadata": {
            "tags": []
          }
        }
      ]
    },
    {
      "metadata": {
        "colab_type": "code",
        "id": "c5PuktzrqGHw",
        "colab": {}
      },
      "cell_type": "code",
      "source": [
        "prec, rec = MetricTools.prec_recall(y, y_hat, len(idx_to_class))\n",
        "f1 = 1 /(0.5 * (1/prec + 1/rec))"
      ],
      "execution_count": 0,
      "outputs": []
    },
    {
      "metadata": {
        "colab_type": "code",
        "id": "7VxDhXHhsqQI",
        "outputId": "cd217ca5-5b2a-4d50-aa32-a392c62372a7",
        "colab": {
          "base_uri": "https://localhost:8080/",
          "height": 34
        }
      },
      "cell_type": "code",
      "source": [
        "np.around([prec, rec, f1], 3)"
      ],
      "execution_count": 64,
      "outputs": [
        {
          "output_type": "execute_result",
          "data": {
            "text/plain": [
              "array([0.945, 0.945, 0.945])"
            ]
          },
          "metadata": {
            "tags": []
          },
          "execution_count": 64
        }
      ]
    },
    {
      "metadata": {
        "id": "Kq4WsBxEhHN_",
        "colab_type": "code",
        "colab": {}
      },
      "cell_type": "code",
      "source": [
        ""
      ],
      "execution_count": 0,
      "outputs": []
    }
  ]
}